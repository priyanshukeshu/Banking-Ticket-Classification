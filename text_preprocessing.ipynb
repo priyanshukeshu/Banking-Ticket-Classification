{
 "cells": [
  {
   "cell_type": "markdown",
   "id": "1b4de007-263a-4078-81f6-6d0e44241265",
   "metadata": {},
   "source": [
    "# Importing libraries and loading dataset"
   ]
  },
  {
   "cell_type": "code",
   "execution_count": 184,
   "id": "30e0076b-fa89-40fd-8d95-de5f12c598d0",
   "metadata": {},
   "outputs": [],
   "source": [
    "import json\n",
    "import numpy as np\n",
    "import pandas as pd"
   ]
  },
  {
   "cell_type": "code",
   "execution_count": 185,
   "id": "10a0f376-3129-4644-a670-4aa7d9539932",
   "metadata": {},
   "outputs": [],
   "source": [
    "f = open('data.json') \n",
    "  \n",
    "# returns JSON object as a dictionary \n",
    "data = json.load(f)"
   ]
  },
  {
   "cell_type": "code",
   "execution_count": 186,
   "id": "d460c557-0663-4c4b-982f-bcb3a9d4141b",
   "metadata": {},
   "outputs": [
    {
     "data": {
      "text/html": [
       "<div>\n",
       "<style scoped>\n",
       "    .dataframe tbody tr th:only-of-type {\n",
       "        vertical-align: middle;\n",
       "    }\n",
       "\n",
       "    .dataframe tbody tr th {\n",
       "        vertical-align: top;\n",
       "    }\n",
       "\n",
       "    .dataframe thead th {\n",
       "        text-align: right;\n",
       "    }\n",
       "</style>\n",
       "<table border=\"1\" class=\"dataframe\">\n",
       "  <thead>\n",
       "    <tr style=\"text-align: right;\">\n",
       "      <th></th>\n",
       "      <th>_index</th>\n",
       "      <th>_type</th>\n",
       "      <th>_id</th>\n",
       "      <th>_score</th>\n",
       "      <th>_source.tags</th>\n",
       "      <th>_source.zip_code</th>\n",
       "      <th>_source.complaint_id</th>\n",
       "      <th>_source.issue</th>\n",
       "      <th>_source.date_received</th>\n",
       "      <th>_source.state</th>\n",
       "      <th>...</th>\n",
       "      <th>_source.company_response</th>\n",
       "      <th>_source.company</th>\n",
       "      <th>_source.submitted_via</th>\n",
       "      <th>_source.date_sent_to_company</th>\n",
       "      <th>_source.company_public_response</th>\n",
       "      <th>_source.sub_product</th>\n",
       "      <th>_source.timely</th>\n",
       "      <th>_source.complaint_what_happened</th>\n",
       "      <th>_source.sub_issue</th>\n",
       "      <th>_source.consumer_consent_provided</th>\n",
       "    </tr>\n",
       "  </thead>\n",
       "  <tbody>\n",
       "    <tr>\n",
       "      <th>39983</th>\n",
       "      <td>complaint-public-v2</td>\n",
       "      <td>complaint</td>\n",
       "      <td>2982306</td>\n",
       "      <td>0.0</td>\n",
       "      <td>None</td>\n",
       "      <td>331XX</td>\n",
       "      <td>2982306</td>\n",
       "      <td>Other features, terms, or problems</td>\n",
       "      <td>2018-08-06T12:00:00-05:00</td>\n",
       "      <td>FL</td>\n",
       "      <td>...</td>\n",
       "      <td>Closed with monetary relief</td>\n",
       "      <td>JPMORGAN CHASE &amp; CO.</td>\n",
       "      <td>Web</td>\n",
       "      <td>2018-08-06T12:00:00-05:00</td>\n",
       "      <td>None</td>\n",
       "      <td>General-purpose credit card or charge card</td>\n",
       "      <td>Yes</td>\n",
       "      <td></td>\n",
       "      <td>Problem with rewards from credit card</td>\n",
       "      <td>Consent not provided</td>\n",
       "    </tr>\n",
       "    <tr>\n",
       "      <th>68782</th>\n",
       "      <td>complaint-public-v2</td>\n",
       "      <td>complaint</td>\n",
       "      <td>2042452</td>\n",
       "      <td>0.0</td>\n",
       "      <td>None</td>\n",
       "      <td>27292</td>\n",
       "      <td>2042452</td>\n",
       "      <td>Credit decision / Underwriting</td>\n",
       "      <td>2016-08-02T12:00:00-05:00</td>\n",
       "      <td>NC</td>\n",
       "      <td>...</td>\n",
       "      <td>Closed with explanation</td>\n",
       "      <td>JPMORGAN CHASE &amp; CO.</td>\n",
       "      <td>Phone</td>\n",
       "      <td>2016-08-02T12:00:00-05:00</td>\n",
       "      <td>None</td>\n",
       "      <td>Conventional fixed mortgage</td>\n",
       "      <td>Yes</td>\n",
       "      <td></td>\n",
       "      <td>None</td>\n",
       "      <td>N/A</td>\n",
       "    </tr>\n",
       "    <tr>\n",
       "      <th>52727</th>\n",
       "      <td>complaint-public-v2</td>\n",
       "      <td>complaint</td>\n",
       "      <td>1134617</td>\n",
       "      <td>0.0</td>\n",
       "      <td>None</td>\n",
       "      <td>33712</td>\n",
       "      <td>1134617</td>\n",
       "      <td>Account opening, closing, or management</td>\n",
       "      <td>2014-11-28T12:00:00-05:00</td>\n",
       "      <td>FL</td>\n",
       "      <td>...</td>\n",
       "      <td>Closed with explanation</td>\n",
       "      <td>JPMORGAN CHASE &amp; CO.</td>\n",
       "      <td>Fax</td>\n",
       "      <td>2015-01-12T12:00:00-05:00</td>\n",
       "      <td>None</td>\n",
       "      <td>Savings account</td>\n",
       "      <td>Yes</td>\n",
       "      <td></td>\n",
       "      <td>None</td>\n",
       "      <td>N/A</td>\n",
       "    </tr>\n",
       "  </tbody>\n",
       "</table>\n",
       "<p>3 rows × 22 columns</p>\n",
       "</div>"
      ],
      "text/plain": [
       "                    _index      _type      _id  _score _source.tags  \\\n",
       "39983  complaint-public-v2  complaint  2982306     0.0         None   \n",
       "68782  complaint-public-v2  complaint  2042452     0.0         None   \n",
       "52727  complaint-public-v2  complaint  1134617     0.0         None   \n",
       "\n",
       "      _source.zip_code _source.complaint_id  \\\n",
       "39983            331XX              2982306   \n",
       "68782            27292              2042452   \n",
       "52727            33712              1134617   \n",
       "\n",
       "                                 _source.issue      _source.date_received  \\\n",
       "39983       Other features, terms, or problems  2018-08-06T12:00:00-05:00   \n",
       "68782           Credit decision / Underwriting  2016-08-02T12:00:00-05:00   \n",
       "52727  Account opening, closing, or management  2014-11-28T12:00:00-05:00   \n",
       "\n",
       "      _source.state  ...     _source.company_response       _source.company  \\\n",
       "39983            FL  ...  Closed with monetary relief  JPMORGAN CHASE & CO.   \n",
       "68782            NC  ...      Closed with explanation  JPMORGAN CHASE & CO.   \n",
       "52727            FL  ...      Closed with explanation  JPMORGAN CHASE & CO.   \n",
       "\n",
       "      _source.submitted_via _source.date_sent_to_company  \\\n",
       "39983                   Web    2018-08-06T12:00:00-05:00   \n",
       "68782                 Phone    2016-08-02T12:00:00-05:00   \n",
       "52727                   Fax    2015-01-12T12:00:00-05:00   \n",
       "\n",
       "      _source.company_public_response  \\\n",
       "39983                            None   \n",
       "68782                            None   \n",
       "52727                            None   \n",
       "\n",
       "                              _source.sub_product _source.timely  \\\n",
       "39983  General-purpose credit card or charge card            Yes   \n",
       "68782                 Conventional fixed mortgage            Yes   \n",
       "52727                             Savings account            Yes   \n",
       "\n",
       "      _source.complaint_what_happened                      _source.sub_issue  \\\n",
       "39983                                  Problem with rewards from credit card   \n",
       "68782                                                                   None   \n",
       "52727                                                                   None   \n",
       "\n",
       "      _source.consumer_consent_provided  \n",
       "39983              Consent not provided  \n",
       "68782                               N/A  \n",
       "52727                               N/A  \n",
       "\n",
       "[3 rows x 22 columns]"
      ]
     },
     "execution_count": 186,
     "metadata": {},
     "output_type": "execute_result"
    }
   ],
   "source": [
    "df=pd.json_normalize(data)\n",
    "df.sample(3)"
   ]
  },
  {
   "cell_type": "code",
   "execution_count": 187,
   "id": "6e796595-79ef-4b11-9fbf-97c6630af92b",
   "metadata": {},
   "outputs": [
    {
     "data": {
      "text/plain": [
       "(78313, 22)"
      ]
     },
     "execution_count": 187,
     "metadata": {},
     "output_type": "execute_result"
    }
   ],
   "source": [
    "df.shape"
   ]
  },
  {
   "cell_type": "code",
   "execution_count": 188,
   "id": "1106c3ed-9bc3-40be-963e-0d60e13d6807",
   "metadata": {},
   "outputs": [
    {
     "name": "stdout",
     "output_type": "stream",
     "text": [
      "<class 'pandas.core.frame.DataFrame'>\n",
      "RangeIndex: 78313 entries, 0 to 78312\n",
      "Data columns (total 22 columns):\n",
      " #   Column                             Non-Null Count  Dtype  \n",
      "---  ------                             --------------  -----  \n",
      " 0   _index                             78313 non-null  object \n",
      " 1   _type                              78313 non-null  object \n",
      " 2   _id                                78313 non-null  object \n",
      " 3   _score                             78313 non-null  float64\n",
      " 4   _source.tags                       10900 non-null  object \n",
      " 5   _source.zip_code                   71556 non-null  object \n",
      " 6   _source.complaint_id               78313 non-null  object \n",
      " 7   _source.issue                      78313 non-null  object \n",
      " 8   _source.date_received              78313 non-null  object \n",
      " 9   _source.state                      76322 non-null  object \n",
      " 10  _source.consumer_disputed          78313 non-null  object \n",
      " 11  _source.product                    78313 non-null  object \n",
      " 12  _source.company_response           78313 non-null  object \n",
      " 13  _source.company                    78313 non-null  object \n",
      " 14  _source.submitted_via              78313 non-null  object \n",
      " 15  _source.date_sent_to_company       78313 non-null  object \n",
      " 16  _source.company_public_response    4 non-null      object \n",
      " 17  _source.sub_product                67742 non-null  object \n",
      " 18  _source.timely                     78313 non-null  object \n",
      " 19  _source.complaint_what_happened    78313 non-null  object \n",
      " 20  _source.sub_issue                  32016 non-null  object \n",
      " 21  _source.consumer_consent_provided  77305 non-null  object \n",
      "dtypes: float64(1), object(21)\n",
      "memory usage: 13.1+ MB\n"
     ]
    }
   ],
   "source": [
    "df.info()"
   ]
  },
  {
   "cell_type": "code",
   "execution_count": 189,
   "id": "876c3e3b-bed2-49dc-83ec-8c65826f9588",
   "metadata": {},
   "outputs": [
    {
     "data": {
      "text/plain": [
       "_index                                   0\n",
       "_type                                    0\n",
       "_id                                      0\n",
       "_score                                   0\n",
       "_source.tags                         67413\n",
       "_source.zip_code                      6757\n",
       "_source.complaint_id                     0\n",
       "_source.issue                            0\n",
       "_source.date_received                    0\n",
       "_source.state                         1991\n",
       "_source.consumer_disputed                0\n",
       "_source.product                          0\n",
       "_source.company_response                 0\n",
       "_source.company                          0\n",
       "_source.submitted_via                    0\n",
       "_source.date_sent_to_company             0\n",
       "_source.company_public_response      78309\n",
       "_source.sub_product                  10571\n",
       "_source.timely                           0\n",
       "_source.complaint_what_happened          0\n",
       "_source.sub_issue                    46297\n",
       "_source.consumer_consent_provided     1008\n",
       "dtype: int64"
      ]
     },
     "execution_count": 189,
     "metadata": {},
     "output_type": "execute_result"
    }
   ],
   "source": [
    "df.isnull().sum()           #cols which are not of much use have null values"
   ]
  },
  {
   "cell_type": "code",
   "execution_count": 190,
   "id": "2eeff4f1-5718-4a79-b76b-d9166144ef04",
   "metadata": {},
   "outputs": [],
   "source": [
    "df = df[['_source.complaint_id','_source.product' ,'_source.complaint_what_happened',]]"
   ]
  },
  {
   "cell_type": "code",
   "execution_count": 191,
   "id": "22418034-a19b-443a-bb18-45bc5c32138a",
   "metadata": {},
   "outputs": [],
   "source": [
    "df = df[df['_source.complaint_what_happened']!='']"
   ]
  },
  {
   "cell_type": "code",
   "execution_count": 192,
   "id": "fa71cd5c-0b1b-4e22-a58b-d24faeacb61a",
   "metadata": {},
   "outputs": [
    {
     "data": {
      "text/plain": [
       "(21072, 3)"
      ]
     },
     "execution_count": 192,
     "metadata": {},
     "output_type": "execute_result"
    }
   ],
   "source": [
    "df.shape"
   ]
  },
  {
   "cell_type": "code",
   "execution_count": 193,
   "id": "a457b60a-5df5-4e3b-a7ba-6dbaf1cf58b1",
   "metadata": {},
   "outputs": [
    {
     "data": {
      "text/html": [
       "<div>\n",
       "<style scoped>\n",
       "    .dataframe tbody tr th:only-of-type {\n",
       "        vertical-align: middle;\n",
       "    }\n",
       "\n",
       "    .dataframe tbody tr th {\n",
       "        vertical-align: top;\n",
       "    }\n",
       "\n",
       "    .dataframe thead th {\n",
       "        text-align: right;\n",
       "    }\n",
       "</style>\n",
       "<table border=\"1\" class=\"dataframe\">\n",
       "  <thead>\n",
       "    <tr style=\"text-align: right;\">\n",
       "      <th></th>\n",
       "      <th>_source.complaint_id</th>\n",
       "      <th>_source.product</th>\n",
       "      <th>_source.complaint_what_happened</th>\n",
       "    </tr>\n",
       "  </thead>\n",
       "  <tbody>\n",
       "    <tr>\n",
       "      <th>1</th>\n",
       "      <td>3229299</td>\n",
       "      <td>Debt collection</td>\n",
       "      <td>Good morning my name is XXXX XXXX and I apprec...</td>\n",
       "    </tr>\n",
       "    <tr>\n",
       "      <th>2</th>\n",
       "      <td>3199379</td>\n",
       "      <td>Credit card or prepaid card</td>\n",
       "      <td>I upgraded my XXXX XXXX card in XX/XX/2018 and...</td>\n",
       "    </tr>\n",
       "    <tr>\n",
       "      <th>10</th>\n",
       "      <td>3233499</td>\n",
       "      <td>Credit reporting, credit repair services, or o...</td>\n",
       "      <td>Chase Card was reported on XX/XX/2019. However...</td>\n",
       "    </tr>\n",
       "  </tbody>\n",
       "</table>\n",
       "</div>"
      ],
      "text/plain": [
       "   _source.complaint_id                                    _source.product  \\\n",
       "1               3229299                                    Debt collection   \n",
       "2               3199379                        Credit card or prepaid card   \n",
       "10              3233499  Credit reporting, credit repair services, or o...   \n",
       "\n",
       "                      _source.complaint_what_happened  \n",
       "1   Good morning my name is XXXX XXXX and I apprec...  \n",
       "2   I upgraded my XXXX XXXX card in XX/XX/2018 and...  \n",
       "10  Chase Card was reported on XX/XX/2019. However...  "
      ]
     },
     "execution_count": 193,
     "metadata": {},
     "output_type": "execute_result"
    }
   ],
   "source": [
    "df.head(3)"
   ]
  },
  {
   "cell_type": "code",
   "execution_count": 194,
   "id": "7f66f2c9-898b-48ab-8879-0d9888d7ebd6",
   "metadata": {},
   "outputs": [],
   "source": [
    "#renaming cols\n",
    "def rename_col(col):\n",
    "    if col.startswith('_source'):\n",
    "        col = col[len('_source.'):]\n",
    "    elif col.startswith('_'):\n",
    "        col = col[1:]\n",
    "    return col"
   ]
  },
  {
   "cell_type": "code",
   "execution_count": 195,
   "id": "3b898d48-372f-4d29-bef7-24b4f0132691",
   "metadata": {},
   "outputs": [],
   "source": [
    "df.rename(lambda x: rename_col(x), axis=1, inplace=True)"
   ]
  },
  {
   "cell_type": "code",
   "execution_count": 196,
   "id": "d7aff0b7-3323-43e4-9e7a-c28b0e6ec02a",
   "metadata": {},
   "outputs": [
    {
     "data": {
      "text/html": [
       "<div>\n",
       "<style scoped>\n",
       "    .dataframe tbody tr th:only-of-type {\n",
       "        vertical-align: middle;\n",
       "    }\n",
       "\n",
       "    .dataframe tbody tr th {\n",
       "        vertical-align: top;\n",
       "    }\n",
       "\n",
       "    .dataframe thead th {\n",
       "        text-align: right;\n",
       "    }\n",
       "</style>\n",
       "<table border=\"1\" class=\"dataframe\">\n",
       "  <thead>\n",
       "    <tr style=\"text-align: right;\">\n",
       "      <th></th>\n",
       "      <th>complaint_id</th>\n",
       "      <th>product</th>\n",
       "      <th>complaint_what_happened</th>\n",
       "    </tr>\n",
       "  </thead>\n",
       "  <tbody>\n",
       "    <tr>\n",
       "      <th>1</th>\n",
       "      <td>3229299</td>\n",
       "      <td>Debt collection</td>\n",
       "      <td>Good morning my name is XXXX XXXX and I apprec...</td>\n",
       "    </tr>\n",
       "    <tr>\n",
       "      <th>2</th>\n",
       "      <td>3199379</td>\n",
       "      <td>Credit card or prepaid card</td>\n",
       "      <td>I upgraded my XXXX XXXX card in XX/XX/2018 and...</td>\n",
       "    </tr>\n",
       "    <tr>\n",
       "      <th>10</th>\n",
       "      <td>3233499</td>\n",
       "      <td>Credit reporting, credit repair services, or o...</td>\n",
       "      <td>Chase Card was reported on XX/XX/2019. However...</td>\n",
       "    </tr>\n",
       "    <tr>\n",
       "      <th>11</th>\n",
       "      <td>3180294</td>\n",
       "      <td>Credit reporting, credit repair services, or o...</td>\n",
       "      <td>On XX/XX/2018, while trying to book a XXXX  XX...</td>\n",
       "    </tr>\n",
       "    <tr>\n",
       "      <th>14</th>\n",
       "      <td>3224980</td>\n",
       "      <td>Checking or savings account</td>\n",
       "      <td>my grand son give me check for {$1600.00} i de...</td>\n",
       "    </tr>\n",
       "    <tr>\n",
       "      <th>...</th>\n",
       "      <td>...</td>\n",
       "      <td>...</td>\n",
       "      <td>...</td>\n",
       "    </tr>\n",
       "    <tr>\n",
       "      <th>78303</th>\n",
       "      <td>3094545</td>\n",
       "      <td>Credit card or prepaid card</td>\n",
       "      <td>After being a Chase Card customer for well ove...</td>\n",
       "    </tr>\n",
       "    <tr>\n",
       "      <th>78309</th>\n",
       "      <td>3091984</td>\n",
       "      <td>Credit card or prepaid card</td>\n",
       "      <td>On Wednesday, XX/XX/XXXX I called Chas, my XXX...</td>\n",
       "    </tr>\n",
       "    <tr>\n",
       "      <th>78310</th>\n",
       "      <td>3133355</td>\n",
       "      <td>Checking or savings account</td>\n",
       "      <td>I am not familiar with XXXX pay and did not un...</td>\n",
       "    </tr>\n",
       "    <tr>\n",
       "      <th>78311</th>\n",
       "      <td>3110963</td>\n",
       "      <td>Credit card or prepaid card</td>\n",
       "      <td>I have had flawless credit for 30 yrs. I've ha...</td>\n",
       "    </tr>\n",
       "    <tr>\n",
       "      <th>78312</th>\n",
       "      <td>2001189</td>\n",
       "      <td>Payday loan</td>\n",
       "      <td>Roughly 10+ years ago I closed out my accounts...</td>\n",
       "    </tr>\n",
       "  </tbody>\n",
       "</table>\n",
       "<p>21072 rows × 3 columns</p>\n",
       "</div>"
      ],
      "text/plain": [
       "      complaint_id                                            product  \\\n",
       "1          3229299                                    Debt collection   \n",
       "2          3199379                        Credit card or prepaid card   \n",
       "10         3233499  Credit reporting, credit repair services, or o...   \n",
       "11         3180294  Credit reporting, credit repair services, or o...   \n",
       "14         3224980                        Checking or savings account   \n",
       "...            ...                                                ...   \n",
       "78303      3094545                        Credit card or prepaid card   \n",
       "78309      3091984                        Credit card or prepaid card   \n",
       "78310      3133355                        Checking or savings account   \n",
       "78311      3110963                        Credit card or prepaid card   \n",
       "78312      2001189                                        Payday loan   \n",
       "\n",
       "                                 complaint_what_happened  \n",
       "1      Good morning my name is XXXX XXXX and I apprec...  \n",
       "2      I upgraded my XXXX XXXX card in XX/XX/2018 and...  \n",
       "10     Chase Card was reported on XX/XX/2019. However...  \n",
       "11     On XX/XX/2018, while trying to book a XXXX  XX...  \n",
       "14     my grand son give me check for {$1600.00} i de...  \n",
       "...                                                  ...  \n",
       "78303  After being a Chase Card customer for well ove...  \n",
       "78309  On Wednesday, XX/XX/XXXX I called Chas, my XXX...  \n",
       "78310  I am not familiar with XXXX pay and did not un...  \n",
       "78311  I have had flawless credit for 30 yrs. I've ha...  \n",
       "78312  Roughly 10+ years ago I closed out my accounts...  \n",
       "\n",
       "[21072 rows x 3 columns]"
      ]
     },
     "execution_count": 196,
     "metadata": {},
     "output_type": "execute_result"
    }
   ],
   "source": [
    "df"
   ]
  },
  {
   "cell_type": "code",
   "execution_count": 197,
   "id": "c245ca51-14b6-46cd-92a9-3d7fa3cf633c",
   "metadata": {},
   "outputs": [
    {
     "data": {
      "text/plain": [
       "Index(['complaint_id', 'product', 'complaint_what_happened'], dtype='object')"
      ]
     },
     "execution_count": 197,
     "metadata": {},
     "output_type": "execute_result"
    }
   ],
   "source": [
    "df.columns"
   ]
  },
  {
   "cell_type": "code",
   "execution_count": 198,
   "id": "55d6bd91-f5b7-4cdc-a19e-253a3ab7c2b1",
   "metadata": {},
   "outputs": [
    {
     "data": {
      "text/plain": [
       "0"
      ]
     },
     "execution_count": 198,
     "metadata": {},
     "output_type": "execute_result"
    }
   ],
   "source": [
    "df.duplicated().sum()"
   ]
  },
  {
   "cell_type": "code",
   "execution_count": 199,
   "id": "62f7d8ac-9dea-444a-9e8b-2a270706875d",
   "metadata": {},
   "outputs": [
    {
     "data": {
      "text/plain": [
       "(21072, 3)"
      ]
     },
     "execution_count": 199,
     "metadata": {},
     "output_type": "execute_result"
    }
   ],
   "source": [
    "df.shape"
   ]
  },
  {
   "cell_type": "markdown",
   "id": "0c49a0b6-1c04-453e-8c18-01863caab62a",
   "metadata": {},
   "source": [
    "# Text Preprocessing\n",
    "* lower case\n",
    "* Tokenisation\n",
    "* remove special chars\n",
    "* remove stop words and punctuation\n",
    "\n",
    "  After preprocessing\n",
    "* Lemmatization of texts\n",
    "* extracting pos_tags from lemmatized tags (removing all tags which don't have 'NN')\n",
    "  \n",
    "\n",
    " en_core_web_sm is a small English pipeline trained on written web text (blogs, news, comments), that includes vocabulary, syntax and entities.\n",
    "\n",
    " when nlp is called on a text, spaCy first tokenizes the text to produce a Doc object. The Doc is then processed in several different steps.\n",
    "\n",
    " Swifter is a package in pandas and works only with pandas objects: DataFrame and Series. It will be used while processing the text to speed up the process."
   ]
  },
  {
   "cell_type": "code",
   "execution_count": 200,
   "id": "07916199-88de-4c05-a6bf-fe7677838e0f",
   "metadata": {},
   "outputs": [
    {
     "data": {
      "text/plain": [
       "'!\"#$%&\\'()*+,-./:;<=>?@[\\\\]^_`{|}~'"
      ]
     },
     "execution_count": 200,
     "metadata": {},
     "output_type": "execute_result"
    }
   ],
   "source": [
    "import nltk, spacy, re\n",
    "import string\n",
    "\n",
    "string.punctuation"
   ]
  },
  {
   "cell_type": "code",
   "execution_count": 201,
   "id": "989a1046-b27a-42c6-892c-6b7756e284fa",
   "metadata": {},
   "outputs": [],
   "source": [
    "#cleaning text\n",
    "\n",
    "def clean_text(text):\n",
    "    text = text.lower()\n",
    "    text = nltk.word_tokenize(text)\n",
    "\n",
    "    text2=[]\n",
    "    for i in text:\n",
    "        if i.isalnum():\n",
    "           text2.append(i)          #removing all special characters\n",
    "\n",
    "    text=text2.copy()\n",
    "    text2.clear()\n",
    "    for i in text:\n",
    "        if i not in string.punctuation:\n",
    "            text2.append(i)\n",
    "\n",
    "    return ' '.join(text2)\n",
    "    "
   ]
  },
  {
   "cell_type": "code",
   "execution_count": 202,
   "id": "7a84b205-a2c5-4371-84e4-5e1ac816482d",
   "metadata": {},
   "outputs": [
    {
     "name": "stderr",
     "output_type": "stream",
     "text": [
      "100%|███████████████████████████████████████████████████████████████████████████| 21072/21072 [00:57<00:00, 367.45it/s]\n"
     ]
    }
   ],
   "source": [
    "from tqdm import tqdm\n",
    "tqdm.pandas()\n",
    "\n",
    "df['complaint_clean'] = df['complaint_what_happened'].progress_apply(lambda x: clean_text(x))"
   ]
  },
  {
   "cell_type": "code",
   "execution_count": 203,
   "id": "8d22f328-f898-4705-a5b8-e3b5fafd57f9",
   "metadata": {},
   "outputs": [],
   "source": [
    "# lemmatizing and removing stop words\n",
    "import swifter\n",
    "import en_core_web_sm\n",
    "\n",
    "# Load the English language model\n",
    "nlp = spacy.load(\"en_core_web_sm\")\n",
    "\n",
    "def lemmatize_text(text):\n",
    "    doc = nlp(text)\n",
    "    # Lemmatize each token and remove stop words\n",
    "    lemmatized_text = \" \".join([token.lemma_ for token in doc if not token.is_stop])\n",
    "\n",
    "    return lemmatized_text"
   ]
  },
  {
   "cell_type": "code",
   "execution_count": 204,
   "id": "0389f2bb-ba26-4359-8722-27fada42feb7",
   "metadata": {},
   "outputs": [
    {
     "data": {
      "text/plain": [
       "''"
      ]
     },
     "execution_count": 204,
     "metadata": {},
     "output_type": "execute_result"
    }
   ],
   "source": [
    "lemmatize_text('she')"
   ]
  },
  {
   "cell_type": "code",
   "execution_count": 205,
   "id": "69fe0d9e-286f-4322-abba-d27522574ed9",
   "metadata": {},
   "outputs": [
    {
     "data": {
      "text/plain": [
       "spacy.tokens.doc.Doc"
      ]
     },
     "execution_count": 205,
     "metadata": {},
     "output_type": "execute_result"
    }
   ],
   "source": [
    "type(nlp(\"she youself upgraded.\"))"
   ]
  },
  {
   "cell_type": "code",
   "execution_count": 206,
   "id": "5aba2aeb-f83d-45f5-ae9e-706fb461266e",
   "metadata": {},
   "outputs": [
    {
     "name": "stdout",
     "output_type": "stream",
     "text": [
      "False\n",
      "stand\n"
     ]
    }
   ],
   "source": [
    "doc=nlp(\"standing\")\n",
    "for token in doc:\n",
    "   print(token.is_stop)\n",
    "   print(token.lemma_)"
   ]
  },
  {
   "cell_type": "code",
   "execution_count": 207,
   "id": "6fd884e0-c0bd-4c0e-bc2f-29ab413f72b5",
   "metadata": {},
   "outputs": [
    {
     "data": {
      "text/plain": [
       "'upgrade'"
      ]
     },
     "execution_count": 207,
     "metadata": {},
     "output_type": "execute_result"
    }
   ],
   "source": [
    "lemmatize_text('upgraded')"
   ]
  },
  {
   "cell_type": "code",
   "execution_count": 208,
   "id": "3e786d13-1eaa-48c0-a082-518aef3b9a43",
   "metadata": {},
   "outputs": [
    {
     "data": {
      "application/vnd.jupyter.widget-view+json": {
       "model_id": "4e310d45773a439ea93921308ba973a8",
       "version_major": 2,
       "version_minor": 0
      },
      "text/plain": [
       "Pandas Apply:   0%|          | 0/21072 [00:00<?, ?it/s]"
      ]
     },
     "metadata": {},
     "output_type": "display_data"
    }
   ],
   "source": [
    "df['complaint_lemmatized'] = df['complaint_clean'].swifter.apply(lemmatize_text)"
   ]
  },
  {
   "cell_type": "code",
   "execution_count": 209,
   "id": "c0de9b66-0b25-4013-85e4-d080009239bc",
   "metadata": {},
   "outputs": [],
   "source": [
    "# Extracting pos tags\n",
    "\n",
    "def pos_tags(text):\n",
    "  nn_words = []\n",
    "  doc = nlp(text)\n",
    "  for tok in doc:\n",
    "      if (tok.tag_== 'NN'):\n",
    "          nn_words.append(tok.lemma_)\n",
    "  nn_words_str = \" \".join(nn_words)\n",
    "  return nn_words_str"
   ]
  },
  {
   "cell_type": "code",
   "execution_count": 210,
   "id": "0d0d52b2-b6cb-481f-b6d1-bff10ebd23d4",
   "metadata": {},
   "outputs": [
    {
     "data": {
      "application/vnd.jupyter.widget-view+json": {
       "model_id": "34b38958ba7d44edae0f91cd62da0d29",
       "version_major": 2,
       "version_minor": 0
      },
      "text/plain": [
       "Pandas Apply:   0%|          | 0/21072 [00:00<?, ?it/s]"
      ]
     },
     "metadata": {},
     "output_type": "display_data"
    }
   ],
   "source": [
    "df['complaint_lemmatized_pos'] = df['complaint_lemmatized'].swifter.apply(pos_tags)"
   ]
  },
  {
   "cell_type": "code",
   "execution_count": 213,
   "id": "68c7f47f-1f27-4e0e-a0b6-f323e49c0382",
   "metadata": {},
   "outputs": [],
   "source": [
    "df = df[['complaint_id','complaint_lemmatized_pos']]"
   ]
  },
  {
   "cell_type": "code",
   "execution_count": 214,
   "id": "db04ee1e-6932-4990-b36b-a62ead3312c2",
   "metadata": {},
   "outputs": [
    {
     "data": {
      "text/html": [
       "<div>\n",
       "<style scoped>\n",
       "    .dataframe tbody tr th:only-of-type {\n",
       "        vertical-align: middle;\n",
       "    }\n",
       "\n",
       "    .dataframe tbody tr th {\n",
       "        vertical-align: top;\n",
       "    }\n",
       "\n",
       "    .dataframe thead th {\n",
       "        text-align: right;\n",
       "    }\n",
       "</style>\n",
       "<table border=\"1\" class=\"dataframe\">\n",
       "  <thead>\n",
       "    <tr style=\"text-align: right;\">\n",
       "      <th></th>\n",
       "      <th>complaint_id</th>\n",
       "      <th>complaint_lemmatized_pos</th>\n",
       "    </tr>\n",
       "  </thead>\n",
       "  <tbody>\n",
       "    <tr>\n",
       "      <th>1</th>\n",
       "      <td>3229299</td>\n",
       "      <td>morning help bank chase debt verification stat...</td>\n",
       "    </tr>\n",
       "    <tr>\n",
       "      <th>2</th>\n",
       "      <td>3199379</td>\n",
       "      <td>card agent upgrade anniversary date change age...</td>\n",
       "    </tr>\n",
       "    <tr>\n",
       "      <th>10</th>\n",
       "      <td>3233499</td>\n",
       "      <td>chase card report application submit identity ...</td>\n",
       "    </tr>\n",
       "  </tbody>\n",
       "</table>\n",
       "</div>"
      ],
      "text/plain": [
       "   complaint_id                           complaint_lemmatized_pos\n",
       "1       3229299  morning help bank chase debt verification stat...\n",
       "2       3199379  card agent upgrade anniversary date change age...\n",
       "10      3233499  chase card report application submit identity ..."
      ]
     },
     "execution_count": 214,
     "metadata": {},
     "output_type": "execute_result"
    }
   ],
   "source": [
    "df.head(3)"
   ]
  },
  {
   "cell_type": "code",
   "execution_count": 215,
   "id": "667b2000-46ca-4aae-a192-bbc50c34ede5",
   "metadata": {},
   "outputs": [
    {
     "name": "stdout",
     "output_type": "stream",
     "text": [
      "score\n"
     ]
    }
   ],
   "source": [
    "s = 'where is my cibil score?'\n",
    "print(clean_text(lemmatize_text(pos_tags(s))))"
   ]
  },
  {
   "cell_type": "code",
   "execution_count": 216,
   "id": "9dd3c883-aa64-4dfd-9d34-8d50d95da39e",
   "metadata": {},
   "outputs": [
    {
     "name": "stderr",
     "output_type": "stream",
     "text": [
      "C:\\Users\\HARSHIT\\AppData\\Local\\Temp\\ipykernel_2292\\4200586875.py:1: SettingWithCopyWarning: \n",
      "A value is trying to be set on a copy of a slice from a DataFrame.\n",
      "Try using .loc[row_indexer,col_indexer] = value instead\n",
      "\n",
      "See the caveats in the documentation: https://pandas.pydata.org/pandas-docs/stable/user_guide/indexing.html#returning-a-view-versus-a-copy\n",
      "  df['complaint_clean'] = df['complaint_lemmatized_pos'].str.replace('xxxx','')\n"
     ]
    }
   ],
   "source": [
    "df['complaint_clean'] = df['complaint_lemmatized_pos'].str.replace('xxxx','')"
   ]
  },
  {
   "cell_type": "code",
   "execution_count": 217,
   "id": "03ec12a2-bbce-4477-b7e9-09d6aa1514ec",
   "metadata": {},
   "outputs": [
    {
     "name": "stderr",
     "output_type": "stream",
     "text": [
      "C:\\Users\\HARSHIT\\AppData\\Local\\Temp\\ipykernel_2292\\1975592974.py:1: SettingWithCopyWarning: \n",
      "A value is trying to be set on a copy of a slice from a DataFrame\n",
      "\n",
      "See the caveats in the documentation: https://pandas.pydata.org/pandas-docs/stable/user_guide/indexing.html#returning-a-view-versus-a-copy\n",
      "  df.drop(columns=['complaint_lemmatized_pos'], inplace=True)\n"
     ]
    }
   ],
   "source": [
    "df.drop(columns=['complaint_lemmatized_pos'], inplace=True)"
   ]
  },
  {
   "cell_type": "code",
   "execution_count": 218,
   "id": "de28790a-68cb-485d-adce-fb57ccdff886",
   "metadata": {},
   "outputs": [
    {
     "data": {
      "text/html": [
       "<div>\n",
       "<style scoped>\n",
       "    .dataframe tbody tr th:only-of-type {\n",
       "        vertical-align: middle;\n",
       "    }\n",
       "\n",
       "    .dataframe tbody tr th {\n",
       "        vertical-align: top;\n",
       "    }\n",
       "\n",
       "    .dataframe thead th {\n",
       "        text-align: right;\n",
       "    }\n",
       "</style>\n",
       "<table border=\"1\" class=\"dataframe\">\n",
       "  <thead>\n",
       "    <tr style=\"text-align: right;\">\n",
       "      <th></th>\n",
       "      <th>complaint_id</th>\n",
       "      <th>complaint_clean</th>\n",
       "    </tr>\n",
       "  </thead>\n",
       "  <tbody>\n",
       "    <tr>\n",
       "      <th>1</th>\n",
       "      <td>3229299</td>\n",
       "      <td>morning help bank chase debt verification stat...</td>\n",
       "    </tr>\n",
       "    <tr>\n",
       "      <th>2</th>\n",
       "      <td>3199379</td>\n",
       "      <td>card agent upgrade anniversary date change age...</td>\n",
       "    </tr>\n",
       "    <tr>\n",
       "      <th>10</th>\n",
       "      <td>3233499</td>\n",
       "      <td>chase card report application submit identity ...</td>\n",
       "    </tr>\n",
       "  </tbody>\n",
       "</table>\n",
       "</div>"
      ],
      "text/plain": [
       "   complaint_id                                    complaint_clean\n",
       "1       3229299  morning help bank chase debt verification stat...\n",
       "2       3199379  card agent upgrade anniversary date change age...\n",
       "10      3233499  chase card report application submit identity ..."
      ]
     },
     "execution_count": 218,
     "metadata": {},
     "output_type": "execute_result"
    }
   ],
   "source": [
    "df.head(3)"
   ]
  },
  {
   "cell_type": "code",
   "execution_count": 219,
   "id": "c07f15f6-8c51-4056-a0a0-0a2396bf8af9",
   "metadata": {},
   "outputs": [
    {
     "data": {
      "text/plain": [
       "(21072, 2)"
      ]
     },
     "execution_count": 219,
     "metadata": {},
     "output_type": "execute_result"
    }
   ],
   "source": [
    "df.shape"
   ]
  },
  {
   "cell_type": "code",
   "execution_count": 220,
   "id": "3cdbd22d-0a88-425e-b904-e8413cc44f8d",
   "metadata": {},
   "outputs": [],
   "source": [
    "df.to_csv('filtered_data.csv', index=False)"
   ]
  },
  {
   "cell_type": "markdown",
   "id": "9bd71b20-a7b7-42ff-9a62-e28fa91004f8",
   "metadata": {},
   "source": [
    "# EDA"
   ]
  },
  {
   "cell_type": "code",
   "execution_count": 221,
   "id": "24439661-a4dd-488c-b756-82a8e7ebd87b",
   "metadata": {},
   "outputs": [
    {
     "name": "stderr",
     "output_type": "stream",
     "text": [
      "C:\\Users\\HARSHIT\\AppData\\Local\\Temp\\ipykernel_2292\\3138561282.py:3: SettingWithCopyWarning: \n",
      "A value is trying to be set on a copy of a slice from a DataFrame.\n",
      "Try using .loc[row_indexer,col_indexer] = value instead\n",
      "\n",
      "See the caveats in the documentation: https://pandas.pydata.org/pandas-docs/stable/user_guide/indexing.html#returning-a-view-versus-a-copy\n",
      "  df['words_count'] = df['complaint_clean'].apply(lambda x: len(nltk.word_tokenize(x)))\n"
     ]
    }
   ],
   "source": [
    "import nltk\n",
    "\n",
    "df['words_count'] = df['complaint_clean'].apply(lambda x: len(nltk.word_tokenize(x)))"
   ]
  },
  {
   "cell_type": "code",
   "execution_count": 222,
   "id": "627ff523-d4e5-4837-9a15-2812186ed696",
   "metadata": {},
   "outputs": [
    {
     "data": {
      "text/plain": [
       "1482"
      ]
     },
     "execution_count": 222,
     "metadata": {},
     "output_type": "execute_result"
    }
   ],
   "source": [
    "df['words_count'].max()"
   ]
  },
  {
   "cell_type": "code",
   "execution_count": 223,
   "id": "aa32763d-7baa-4a9a-83ae-9907d191c4e7",
   "metadata": {},
   "outputs": [
    {
     "data": {
      "text/plain": [
       "55.4336085801063"
      ]
     },
     "execution_count": 223,
     "metadata": {},
     "output_type": "execute_result"
    }
   ],
   "source": [
    "df['words_count'].mean()"
   ]
  },
  {
   "cell_type": "code",
   "execution_count": 224,
   "id": "f4db31f0-4f8c-4d8e-9f6d-a9e199533fd8",
   "metadata": {},
   "outputs": [
    {
     "data": {
      "text/plain": [
       "0"
      ]
     },
     "execution_count": 224,
     "metadata": {},
     "output_type": "execute_result"
    }
   ],
   "source": [
    "df['words_count'].min()"
   ]
  },
  {
   "cell_type": "code",
   "execution_count": 225,
   "id": "4a9200ec-552a-4774-b1e9-6caee3d8a0b0",
   "metadata": {},
   "outputs": [
    {
     "data": {
      "text/html": [
       "<div>\n",
       "<style scoped>\n",
       "    .dataframe tbody tr th:only-of-type {\n",
       "        vertical-align: middle;\n",
       "    }\n",
       "\n",
       "    .dataframe tbody tr th {\n",
       "        vertical-align: top;\n",
       "    }\n",
       "\n",
       "    .dataframe thead th {\n",
       "        text-align: right;\n",
       "    }\n",
       "</style>\n",
       "<table border=\"1\" class=\"dataframe\">\n",
       "  <thead>\n",
       "    <tr style=\"text-align: right;\">\n",
       "      <th></th>\n",
       "      <th>complaint_id</th>\n",
       "      <th>complaint_clean</th>\n",
       "      <th>words_count</th>\n",
       "    </tr>\n",
       "  </thead>\n",
       "  <tbody>\n",
       "    <tr>\n",
       "      <th>1</th>\n",
       "      <td>3229299</td>\n",
       "      <td>morning help bank chase debt verification stat...</td>\n",
       "      <td>19</td>\n",
       "    </tr>\n",
       "    <tr>\n",
       "      <th>2</th>\n",
       "      <td>3199379</td>\n",
       "      <td>card agent upgrade anniversary date change age...</td>\n",
       "      <td>16</td>\n",
       "    </tr>\n",
       "  </tbody>\n",
       "</table>\n",
       "</div>"
      ],
      "text/plain": [
       "  complaint_id                                    complaint_clean  words_count\n",
       "1      3229299  morning help bank chase debt verification stat...           19\n",
       "2      3199379  card agent upgrade anniversary date change age...           16"
      ]
     },
     "execution_count": 225,
     "metadata": {},
     "output_type": "execute_result"
    }
   ],
   "source": [
    "df.head(2)"
   ]
  },
  {
   "cell_type": "code",
   "execution_count": 226,
   "id": "f835b468-81dd-44fe-ac59-8e3bce57cf7a",
   "metadata": {},
   "outputs": [],
   "source": [
    "import seaborn as sns\n",
    "import matplotlib.pyplot as plt"
   ]
  },
  {
   "cell_type": "code",
   "execution_count": 227,
   "id": "4ea49fab-a08e-47a0-8a48-4cf439608b92",
   "metadata": {},
   "outputs": [
    {
     "data": {
      "image/png": "[encoded data removed]",
      "text/plain": [
       "<Figure size 1000x600 with 1 Axes>"
      ]
     },
     "metadata": {},
     "output_type": "display_data"
    }
   ],
   "source": [
    "plt.figure(figsize=(10, 6))\n",
    "plt.hist(df['words_count'], bins=30, edgecolor='white')\n",
    "plt.xlabel('Complaint_length(no. of words)')\n",
    "plt.ylabel('Count')\n",
    "plt.title('Distribution of complaint_length')\n",
    "plt.grid(True)"
   ]
  },
  {
   "cell_type": "code",
   "execution_count": 228,
   "id": "a5d692f1-f88c-4814-984d-ef342907b64f",
   "metadata": {},
   "outputs": [],
   "source": [
    "from wordcloud import WordCloud\n",
    "wc= WordCloud(width=500, height=500, min_font_size=10, background_color='white', max_words =50)"
   ]
  },
  {
   "cell_type": "code",
   "execution_count": 229,
   "id": "d6b0682f-08e7-4e6b-8df0-a50a25ca5205",
   "metadata": {},
   "outputs": [
    {
     "data": {
      "text/plain": [
       "<matplotlib.image.AxesImage at 0x244392dc8c0>"
      ]
     },
     "execution_count": 229,
     "metadata": {},
     "output_type": "execute_result"
    },
    {
     "data": {
      "image/png": "[encoded data removed]",
      "text/plain": [
       "<Figure size 1000x600 with 1 Axes>"
      ]
     },
     "metadata": {},
     "output_type": "display_data"
    }
   ],
   "source": [
    "complaint_wc = wc.generate(df['complaint_clean'].str.cat(sep=' '))\n",
    "plt.figure(figsize=(10, 6))\n",
    "plt.imshow(complaint_wc)"
   ]
  },
  {
   "cell_type": "code",
   "execution_count": 230,
   "id": "dca4cfad-0658-4b84-8eaf-972510c23036",
   "metadata": {},
   "outputs": [],
   "source": [
    "# fiunction for analysing unigrams, bigrams, trigrams\n",
    "\n",
    "from sklearn.feature_extraction.text import CountVectorizer\n",
    "\n",
    "def get_top_ngram_words(corpus, n=None,count=None):\n",
    "\n",
    "    #count the frequency of the word that occurs\n",
    "    vec = CountVectorizer(ngram_range=(n, n))     \n",
    "    bag_of_words = vec.fit_transform(corpus)\n",
    "    \n",
    "\n",
    "    # Summing the occurrences of each word across all documents\n",
    "    sum_words = bag_of_words.sum(axis=0) \n",
    "\n",
    "    #sum_words[0, idx]: accesses the element at index idx in the first row (0) of sum_words\n",
    "    words_freq = [(word, sum_words[0, idx]) for word, idx in vec.vocabulary_.items()]\n",
    "\n",
    "    #Sorting based on freq of words in descending order\n",
    "    words_freq =sorted(words_freq, key = lambda x: x[1], reverse=True)\n",
    "    \n",
    "    return words_freq[:count]"
   ]
  },
  {
   "cell_type": "code",
   "execution_count": 231,
   "id": "c109e24d-e6b3-4f8f-994f-42f91f181755",
   "metadata": {},
   "outputs": [],
   "source": [
    "# unigram = get_top_ngram_words(df['complaint_clean'],1)\n",
    "# def cc(unigram, word):\n",
    "#     sum=0\n",
    "#     count=0\n",
    "#     for i in unigram:\n",
    "#         sum+=i[1]\n",
    "    \n",
    "#     for i in unigram:\n",
    "#         if i[0]==word:\n",
    "#             count=i[1]\n",
    "#     print(sum,count,count*100/sum)\n",
    "\n",
    "# cc(unigram, \"credit\")"
   ]
  },
  {
   "cell_type": "code",
   "execution_count": 232,
   "id": "6685ebe8-c2ea-48da-a0d9-36bbfdbdc541",
   "metadata": {},
   "outputs": [],
   "source": [
    "unigram = get_top_ngram_words(df['complaint_clean'],1,15)"
   ]
  },
  {
   "cell_type": "code",
   "execution_count": 233,
   "id": "0c27e10c-a27d-4f59-aac0-d102f1bbd744",
   "metadata": {},
   "outputs": [
    {
     "name": "stdout",
     "output_type": "stream",
     "text": [
      "('chase', 54629)\n",
      "('account', 40622)\n",
      "('credit', 33549)\n",
      "('card', 29766)\n",
      "('payment', 21072)\n",
      "('bank', 16865)\n",
      "('time', 15898)\n",
      "('charge', 15413)\n",
      "('day', 12849)\n",
      "('call', 12403)\n",
      "('money', 11768)\n",
      "('check', 11246)\n",
      "('report', 10401)\n",
      "('loan', 10375)\n",
      "('information', 9424)\n"
     ]
    }
   ],
   "source": [
    "for i in unigram:\n",
    "    print(i)"
   ]
  },
  {
   "cell_type": "code",
   "execution_count": 234,
   "id": "82d00556-57ee-4e3a-9873-65ef5cd4d0cd",
   "metadata": {},
   "outputs": [
    {
     "name": "stdout",
     "output_type": "stream",
     "text": [
      "('credit card', 12774)\n",
      "('credit report', 3871)\n",
      "('chase credit', 3204)\n",
      "('call chase', 2927)\n",
      "('customer service', 2922)\n",
      "('account chase', 2248)\n",
      "('chase bank', 2201)\n",
      "('check account', 2110)\n",
      "('chase account', 2070)\n",
      "('contact chase', 1910)\n",
      "('debit card', 1905)\n",
      "('credit score', 1696)\n",
      "('account account', 1566)\n",
      "('bank account', 1562)\n",
      "('card account', 1552)\n"
     ]
    }
   ],
   "source": [
    "bigram = get_top_ngram_words(df['complaint_clean'],2,15)\n",
    "for i in bigram:\n",
    "    print(i)"
   ]
  },
  {
   "cell_type": "code",
   "execution_count": 235,
   "id": "e715c035-da41-4599-8aea-b78288345329",
   "metadata": {},
   "outputs": [
    {
     "name": "stdout",
     "output_type": "stream",
     "text": [
      "('chase credit card', 2278)\n",
      "('credit card account', 1063)\n",
      "('credit card company', 967)\n",
      "('credit card chase', 762)\n",
      "('chase customer service', 571)\n",
      "('inquiry credit report', 502)\n",
      "('credit card credit', 467)\n",
      "('charge credit card', 426)\n",
      "('credit reporting agency', 380)\n",
      "('account credit card', 357)\n",
      "('card credit card', 352)\n",
      "('call customer service', 350)\n",
      "('credit report credit', 332)\n",
      "('credit card charge', 304)\n",
      "('credit card payment', 289)\n"
     ]
    }
   ],
   "source": [
    "trigram = get_top_ngram_words(df['complaint_clean'],3,15)\n",
    "for i in trigram:\n",
    "    print(i)"
   ]
  },
  {
   "cell_type": "markdown",
   "id": "025e0a25-9793-4d47-9d64-d5a3068b746c",
   "metadata": {},
   "source": [
    "# Feature Extraction"
   ]
  },
  {
   "cell_type": "code",
   "execution_count": 236,
   "id": "161328b6-1181-4248-8f46-9b5668eb6e7b",
   "metadata": {},
   "outputs": [],
   "source": [
    "# converting textual data to numerical by vectorizing\n",
    "\n",
    "from sklearn.feature_extraction.text import TfidfVectorizer\n",
    "vectorizer = TfidfVectorizer(max_df=0.95, min_df=2)   #will ignore texts which occurs more than 95% in all the complaints"
   ]
  },
  {
   "cell_type": "code",
   "execution_count": 237,
   "id": "8ad2724d-cd7b-4605-8798-14e9e71f19b5",
   "metadata": {},
   "outputs": [],
   "source": [
    "tfidf = vectorizer.fit_transform(df['complaint_clean'])"
   ]
  },
  {
   "cell_type": "code",
   "execution_count": 238,
   "id": "7d8d6d96-99aa-4dd4-a8c0-6561e7fee824",
   "metadata": {},
   "outputs": [
    {
     "data": {
      "text/plain": [
       "(21072, 6150)"
      ]
     },
     "execution_count": 238,
     "metadata": {},
     "output_type": "execute_result"
    }
   ],
   "source": [
    "tfidf.shape"
   ]
  },
  {
   "cell_type": "code",
   "execution_count": 239,
   "id": "bd5da808-d19f-48e4-a8a3-b7655144bce5",
   "metadata": {},
   "outputs": [
    {
     "name": "stdout",
     "output_type": "stream",
     "text": [
      "  (0, 3549)\t0.253835283210846\n",
      "  (0, 2612)\t0.35618772043629565\n",
      "  (0, 484)\t0.2278058354618578\n",
      "  (0, 893)\t0.15472955573303648\n",
      "  (0, 1447)\t0.6047555721811274\n",
      "  (0, 5937)\t0.2841802231306047\n",
      "  (0, 5268)\t0.17227629828181173\n",
      "  (0, 5902)\t0.3204744877883878\n",
      "  (0, 3294)\t0.17713025045590589\n",
      "  (0, 3542)\t0.13958145890802903\n",
      "  (0, 398)\t0.19185435970758355\n",
      "  (0, 2855)\t0.1399971521680744\n",
      "  (0, 1197)\t0.19668445949816565\n",
      "  (0, 66)\t0.0896678163262695\n",
      "  (1, 2855)\t0.09426812673071028\n",
      "  (1, 66)\t0.060378493006505905\n",
      "  (1, 785)\t0.07040226234809814\n",
      "  (1, 177)\t0.47845947741279665\n",
      "  (1, 5866)\t0.5209403767182553\n",
      "  (1, 260)\t0.5582368189847321\n",
      "  (1, 1422)\t0.21645933733972414\n",
      "  (1, 875)\t0.26521593588788667\n",
      "  (1, 3777)\t0.12891634398251334\n",
      "  (1, 1167)\t0.19174781488528347\n",
      "  (2, 893)\t0.0849061050699907\n",
      "  :\t:\n",
      "  (21070, 891)\t0.16955059368672967\n",
      "  (21071, 484)\t0.08774245788905863\n",
      "  (21071, 66)\t0.20722053714016084\n",
      "  (21071, 3777)\t0.14748140005925428\n",
      "  (21071, 4652)\t0.10582822560461097\n",
      "  (21071, 4987)\t0.11427323931396145\n",
      "  (21071, 1347)\t0.1463503564947063\n",
      "  (21071, 3672)\t0.3823267007614161\n",
      "  (21071, 5267)\t0.10855453529023751\n",
      "  (21071, 3915)\t0.21446364986025093\n",
      "  (21071, 757)\t0.09173205171256552\n",
      "  (21071, 1404)\t0.11355573475976236\n",
      "  (21071, 3924)\t0.3811227003374979\n",
      "  (21071, 6135)\t0.3233165440289196\n",
      "  (21071, 6020)\t0.1422790045170212\n",
      "  (21071, 3214)\t0.32425149374657325\n",
      "  (21071, 3612)\t0.14326737395451716\n",
      "  (21071, 487)\t0.17219269320596728\n",
      "  (21071, 883)\t0.10151092676382843\n",
      "  (21071, 5053)\t0.1558684624477641\n",
      "  (21071, 1778)\t0.17026630506909754\n",
      "  (21071, 4264)\t0.17108695978536156\n",
      "  (21071, 2921)\t0.19686976414926713\n",
      "  (21071, 4903)\t0.20780651845682102\n",
      "  (21071, 5585)\t0.2377461599828908\n"
     ]
    }
   ],
   "source": [
    "print(tfidf)"
   ]
  },
  {
   "cell_type": "markdown",
   "id": "655069ce-8cd0-415e-88b1-d6202a549111",
   "metadata": {},
   "source": [
    "### NMF-> Non-Negative Matrix Factorization \n",
    "will be using it for labelling our dataset"
   ]
  },
  {
   "cell_type": "code",
   "execution_count": 240,
   "id": "3f13dcc1-86a8-414f-8eec-ef11d657eeb1",
   "metadata": {},
   "outputs": [],
   "source": [
    "from sklearn.decomposition import NMF"
   ]
  },
  {
   "cell_type": "code",
   "execution_count": 241,
   "id": "c65e706a-4aca-49c9-a796-a5443672f391",
   "metadata": {},
   "outputs": [
    {
     "name": "stderr",
     "output_type": "stream",
     "text": [
      "C:\\Users\\HARSHIT\\AppData\\Local\\Programs\\Python\\Python312\\Lib\\site-packages\\sklearn\\decomposition\\_nmf.py:1759: ConvergenceWarning: Maximum number of iterations 200 reached. Increase it to improve convergence.\n",
      "  warnings.warn(\n"
     ]
    }
   ],
   "source": [
    "nmf_model = NMF(n_components= 5, init='random', random_state=40)\n",
    "W = nmf_model.fit_transform(tfidf)                #document-topic matrix\n",
    "H = nmf_model.components_                         #topic-term matrix"
   ]
  },
  {
   "cell_type": "code",
   "execution_count": 242,
   "id": "cbd58713-b31c-4572-b02c-84e3e01ff1e6",
   "metadata": {},
   "outputs": [
    {
     "data": {
      "text/plain": [
       "6150"
      ]
     },
     "execution_count": 242,
     "metadata": {},
     "output_type": "execute_result"
    }
   ],
   "source": [
    "len(vectorizer.get_feature_names_out())"
   ]
  },
  {
   "cell_type": "code",
   "execution_count": 243,
   "id": "d97db6e9-fb54-4750-83ba-fb743191a5f3",
   "metadata": {},
   "outputs": [
    {
     "name": "stdout",
     "output_type": "stream",
     "text": [
      "Topic 0\n",
      "['chase, dispute, card, claim, transaction, charge, call, letter, fraud, number, email, merchant, contact, phone, information, time, service, purchase, state, file']\n",
      "\n",
      "Topic 1\n",
      "['account, check, money, bank, deposit, fund, chase, branch, day, transfer, business, cash, call, number, reason, access, customer, checking, time, debit']\n",
      "\n",
      "Topic 2\n",
      "['payment, loan, mortgage, chase, month, modification, home, year, pay, time, interest, rate, property, foreclosure, date, statement, auto, day, refinance, request']\n",
      "\n",
      "Topic 3\n",
      "['credit, card, report, inquiry, account, score, chase, company, limit, debt, application, reporting, year, information, remove, identity, balance, history, reason, theft']\n",
      "\n",
      "Topic 4\n",
      "['charge, fee, balance, interest, card, overdraft, pay, statement, month, purchase, bill, rate, account, transaction, refund, transfer, dollar, year, payment, service']\n",
      "\n"
     ]
    }
   ],
   "source": [
    "# getting top 15 words from each topic\n",
    "\n",
    "feature_names = vectorizer.get_feature_names_out()\n",
    "\n",
    "for topic_idx, topic in enumerate(H):\n",
    "    print('Topic {}'.format(topic_idx))\n",
    "    print([', '.join([feature_names[i] for i in topic.argsort()[:-21:-1]])])           #argsort() will be used to get index which will sort the array\n",
    "    print()"
   ]
  },
  {
   "cell_type": "code",
   "execution_count": 244,
   "id": "0b3bdabe-e120-48d6-a679-d6087c1d8e59",
   "metadata": {},
   "outputs": [
    {
     "data": {
      "text/plain": [
       "array([1, 0, 3, ..., 0, 2, 2], dtype=int64)"
      ]
     },
     "execution_count": 244,
     "metadata": {},
     "output_type": "execute_result"
    }
   ],
   "source": [
    "# will assign the topic to each complaint based on max score\n",
    "W.argmax(axis=1)"
   ]
  },
  {
   "cell_type": "code",
   "execution_count": 245,
   "id": "d05d0257-9dc1-4fd5-b8e4-2491c83ddc0c",
   "metadata": {},
   "outputs": [
    {
     "name": "stderr",
     "output_type": "stream",
     "text": [
      "C:\\Users\\HARSHIT\\AppData\\Local\\Temp\\ipykernel_2292\\166067132.py:1: SettingWithCopyWarning: \n",
      "A value is trying to be set on a copy of a slice from a DataFrame.\n",
      "Try using .loc[row_indexer,col_indexer] = value instead\n",
      "\n",
      "See the caveats in the documentation: https://pandas.pydata.org/pandas-docs/stable/user_guide/indexing.html#returning-a-view-versus-a-copy\n",
      "  df.loc[:,'Label'] = W.argmax(axis=1)\n"
     ]
    }
   ],
   "source": [
    "df.loc[:,'Label'] = W.argmax(axis=1)"
   ]
  },
  {
   "cell_type": "code",
   "execution_count": 246,
   "id": "d388f01e-2de7-46d0-a619-7f63b0445c25",
   "metadata": {},
   "outputs": [
    {
     "data": {
      "text/html": [
       "<div>\n",
       "<style scoped>\n",
       "    .dataframe tbody tr th:only-of-type {\n",
       "        vertical-align: middle;\n",
       "    }\n",
       "\n",
       "    .dataframe tbody tr th {\n",
       "        vertical-align: top;\n",
       "    }\n",
       "\n",
       "    .dataframe thead th {\n",
       "        text-align: right;\n",
       "    }\n",
       "</style>\n",
       "<table border=\"1\" class=\"dataframe\">\n",
       "  <thead>\n",
       "    <tr style=\"text-align: right;\">\n",
       "      <th></th>\n",
       "      <th>complaint_id</th>\n",
       "      <th>complaint_clean</th>\n",
       "      <th>words_count</th>\n",
       "      <th>Label</th>\n",
       "    </tr>\n",
       "  </thead>\n",
       "  <tbody>\n",
       "    <tr>\n",
       "      <th>1</th>\n",
       "      <td>3229299</td>\n",
       "      <td>morning help bank chase debt verification stat...</td>\n",
       "      <td>19</td>\n",
       "      <td>1</td>\n",
       "    </tr>\n",
       "    <tr>\n",
       "      <th>2</th>\n",
       "      <td>3199379</td>\n",
       "      <td>card agent upgrade anniversary date change age...</td>\n",
       "      <td>16</td>\n",
       "      <td>0</td>\n",
       "    </tr>\n",
       "    <tr>\n",
       "      <th>10</th>\n",
       "      <td>3233499</td>\n",
       "      <td>chase card report application submit identity ...</td>\n",
       "      <td>13</td>\n",
       "      <td>3</td>\n",
       "    </tr>\n",
       "  </tbody>\n",
       "</table>\n",
       "</div>"
      ],
      "text/plain": [
       "   complaint_id                                    complaint_clean  \\\n",
       "1       3229299  morning help bank chase debt verification stat...   \n",
       "2       3199379  card agent upgrade anniversary date change age...   \n",
       "10      3233499  chase card report application submit identity ...   \n",
       "\n",
       "    words_count  Label  \n",
       "1            19      1  \n",
       "2            16      0  \n",
       "10           13      3  "
      ]
     },
     "execution_count": 246,
     "metadata": {},
     "output_type": "execute_result"
    }
   ],
   "source": [
    "df.head(3)"
   ]
  },
  {
   "cell_type": "code",
   "execution_count": 247,
   "id": "d9116264-1498-4c78-913f-b67fae768570",
   "metadata": {},
   "outputs": [
    {
     "data": {
      "text/html": [
       "<div>\n",
       "<style scoped>\n",
       "    .dataframe tbody tr th:only-of-type {\n",
       "        vertical-align: middle;\n",
       "    }\n",
       "\n",
       "    .dataframe tbody tr th {\n",
       "        vertical-align: top;\n",
       "    }\n",
       "\n",
       "    .dataframe thead th {\n",
       "        text-align: right;\n",
       "    }\n",
       "</style>\n",
       "<table border=\"1\" class=\"dataframe\">\n",
       "  <thead>\n",
       "    <tr style=\"text-align: right;\">\n",
       "      <th></th>\n",
       "      <th>complaint_id</th>\n",
       "      <th>complaint_clean</th>\n",
       "      <th>words_count</th>\n",
       "      <th>Label</th>\n",
       "    </tr>\n",
       "  </thead>\n",
       "  <tbody>\n",
       "    <tr>\n",
       "      <th>2</th>\n",
       "      <td>3199379</td>\n",
       "      <td>card agent upgrade anniversary date change age...</td>\n",
       "      <td>16</td>\n",
       "      <td>0</td>\n",
       "    </tr>\n",
       "    <tr>\n",
       "      <th>21</th>\n",
       "      <td>3226110</td>\n",
       "      <td>payment retailer chase pay website scam websi...</td>\n",
       "      <td>147</td>\n",
       "      <td>0</td>\n",
       "    </tr>\n",
       "    <tr>\n",
       "      <th>32</th>\n",
       "      <td>3236849</td>\n",
       "      <td>catering order place brother contact chase noo...</td>\n",
       "      <td>79</td>\n",
       "      <td>0</td>\n",
       "    </tr>\n",
       "    <tr>\n",
       "      <th>1</th>\n",
       "      <td>3229299</td>\n",
       "      <td>morning help bank chase debt verification stat...</td>\n",
       "      <td>19</td>\n",
       "      <td>1</td>\n",
       "    </tr>\n",
       "    <tr>\n",
       "      <th>14</th>\n",
       "      <td>3224980</td>\n",
       "      <td>son deposit chase account fund bank account pa...</td>\n",
       "      <td>27</td>\n",
       "      <td>1</td>\n",
       "    </tr>\n",
       "    <tr>\n",
       "      <th>17</th>\n",
       "      <td>3331023</td>\n",
       "      <td>account debit card branch customer service rep...</td>\n",
       "      <td>95</td>\n",
       "      <td>1</td>\n",
       "    </tr>\n",
       "    <tr>\n",
       "      <th>20</th>\n",
       "      <td>3352857</td>\n",
       "      <td>summer month experience income employment requ...</td>\n",
       "      <td>72</td>\n",
       "      <td>2</td>\n",
       "    </tr>\n",
       "    <tr>\n",
       "      <th>57</th>\n",
       "      <td>3198574</td>\n",
       "      <td>loan modification chase mo payment</td>\n",
       "      <td>5</td>\n",
       "      <td>2</td>\n",
       "    </tr>\n",
       "    <tr>\n",
       "      <th>58</th>\n",
       "      <td>3188608</td>\n",
       "      <td>payment minimum payment closing date statement...</td>\n",
       "      <td>44</td>\n",
       "      <td>2</td>\n",
       "    </tr>\n",
       "    <tr>\n",
       "      <th>10</th>\n",
       "      <td>3233499</td>\n",
       "      <td>chase card report application submit identity ...</td>\n",
       "      <td>13</td>\n",
       "      <td>3</td>\n",
       "    </tr>\n",
       "    <tr>\n",
       "      <th>11</th>\n",
       "      <td>3180294</td>\n",
       "      <td>book offer ticket reward card information minu...</td>\n",
       "      <td>50</td>\n",
       "      <td>3</td>\n",
       "    </tr>\n",
       "    <tr>\n",
       "      <th>15</th>\n",
       "      <td>3209411</td>\n",
       "      <td>inquiry</td>\n",
       "      <td>1</td>\n",
       "      <td>3</td>\n",
       "    </tr>\n",
       "    <tr>\n",
       "      <th>30</th>\n",
       "      <td>3235343</td>\n",
       "      <td>concern bank overdraft fee alert balance fee b...</td>\n",
       "      <td>27</td>\n",
       "      <td>4</td>\n",
       "    </tr>\n",
       "    <tr>\n",
       "      <th>40</th>\n",
       "      <td>3357920</td>\n",
       "      <td>seat table chair deliver debit card charge ban...</td>\n",
       "      <td>12</td>\n",
       "      <td>4</td>\n",
       "    </tr>\n",
       "    <tr>\n",
       "      <th>63</th>\n",
       "      <td>3265950</td>\n",
       "      <td>transaction charge receive service refund card...</td>\n",
       "      <td>7</td>\n",
       "      <td>4</td>\n",
       "    </tr>\n",
       "  </tbody>\n",
       "</table>\n",
       "</div>"
      ],
      "text/plain": [
       "   complaint_id                                    complaint_clean  \\\n",
       "2       3199379  card agent upgrade anniversary date change age...   \n",
       "21      3226110   payment retailer chase pay website scam websi...   \n",
       "32      3236849  catering order place brother contact chase noo...   \n",
       "1       3229299  morning help bank chase debt verification stat...   \n",
       "14      3224980  son deposit chase account fund bank account pa...   \n",
       "17      3331023  account debit card branch customer service rep...   \n",
       "20      3352857  summer month experience income employment requ...   \n",
       "57      3198574                 loan modification chase mo payment   \n",
       "58      3188608  payment minimum payment closing date statement...   \n",
       "10      3233499  chase card report application submit identity ...   \n",
       "11      3180294  book offer ticket reward card information minu...   \n",
       "15      3209411                                            inquiry   \n",
       "30      3235343  concern bank overdraft fee alert balance fee b...   \n",
       "40      3357920  seat table chair deliver debit card charge ban...   \n",
       "63      3265950  transaction charge receive service refund card...   \n",
       "\n",
       "    words_count  Label  \n",
       "2            16      0  \n",
       "21          147      0  \n",
       "32           79      0  \n",
       "1            19      1  \n",
       "14           27      1  \n",
       "17           95      1  \n",
       "20           72      2  \n",
       "57            5      2  \n",
       "58           44      2  \n",
       "10           13      3  \n",
       "11           50      3  \n",
       "15            1      3  \n",
       "30           27      4  \n",
       "40           12      4  \n",
       "63            7      4  "
      ]
     },
     "execution_count": 247,
     "metadata": {},
     "output_type": "execute_result"
    }
   ],
   "source": [
    "# print 5 complaints each of different label\n",
    "df.groupby('Label').head(3).sort_values('Label')"
   ]
  },
  {
   "cell_type": "code",
   "execution_count": 248,
   "id": "1a52f26e-4402-4783-a1f0-d10a3dfa4fd3",
   "metadata": {},
   "outputs": [],
   "source": [
    "# mapping Labels to topics\n",
    "\n",
    "Topic_names = {\n",
    "    4: 'others',\n",
    "    2: 'Mortgage/Loan management',\n",
    "    1: 'Bank Account services',\n",
    "    3: 'Credit card / Prepaid card',\n",
    "    0: 'Theft/Dispute Reporting'\n",
    "}\n",
    "\n",
    "df.loc[:,'Label']=df.loc[:,'Label'].map(Topic_names)"
   ]
  },
  {
   "cell_type": "code",
   "execution_count": 249,
   "id": "2a7d3096-8642-47d3-b100-7bc74d1d8f74",
   "metadata": {},
   "outputs": [
    {
     "data": {
      "text/html": [
       "<div>\n",
       "<style scoped>\n",
       "    .dataframe tbody tr th:only-of-type {\n",
       "        vertical-align: middle;\n",
       "    }\n",
       "\n",
       "    .dataframe tbody tr th {\n",
       "        vertical-align: top;\n",
       "    }\n",
       "\n",
       "    .dataframe thead th {\n",
       "        text-align: right;\n",
       "    }\n",
       "</style>\n",
       "<table border=\"1\" class=\"dataframe\">\n",
       "  <thead>\n",
       "    <tr style=\"text-align: right;\">\n",
       "      <th></th>\n",
       "      <th>complaint_id</th>\n",
       "      <th>complaint_clean</th>\n",
       "      <th>words_count</th>\n",
       "      <th>Label</th>\n",
       "    </tr>\n",
       "  </thead>\n",
       "  <tbody>\n",
       "    <tr>\n",
       "      <th>1</th>\n",
       "      <td>3229299</td>\n",
       "      <td>morning help bank chase debt verification stat...</td>\n",
       "      <td>19</td>\n",
       "      <td>Bank Account services</td>\n",
       "    </tr>\n",
       "    <tr>\n",
       "      <th>2</th>\n",
       "      <td>3199379</td>\n",
       "      <td>card agent upgrade anniversary date change age...</td>\n",
       "      <td>16</td>\n",
       "      <td>Theft/Dispute Reporting</td>\n",
       "    </tr>\n",
       "    <tr>\n",
       "      <th>10</th>\n",
       "      <td>3233499</td>\n",
       "      <td>chase card report application submit identity ...</td>\n",
       "      <td>13</td>\n",
       "      <td>Credit card / Prepaid card</td>\n",
       "    </tr>\n",
       "    <tr>\n",
       "      <th>11</th>\n",
       "      <td>3180294</td>\n",
       "      <td>book offer ticket reward card information minu...</td>\n",
       "      <td>50</td>\n",
       "      <td>Credit card / Prepaid card</td>\n",
       "    </tr>\n",
       "    <tr>\n",
       "      <th>14</th>\n",
       "      <td>3224980</td>\n",
       "      <td>son deposit chase account fund bank account pa...</td>\n",
       "      <td>27</td>\n",
       "      <td>Bank Account services</td>\n",
       "    </tr>\n",
       "  </tbody>\n",
       "</table>\n",
       "</div>"
      ],
      "text/plain": [
       "   complaint_id                                    complaint_clean  \\\n",
       "1       3229299  morning help bank chase debt verification stat...   \n",
       "2       3199379  card agent upgrade anniversary date change age...   \n",
       "10      3233499  chase card report application submit identity ...   \n",
       "11      3180294  book offer ticket reward card information minu...   \n",
       "14      3224980  son deposit chase account fund bank account pa...   \n",
       "\n",
       "    words_count                       Label  \n",
       "1            19       Bank Account services  \n",
       "2            16     Theft/Dispute Reporting  \n",
       "10           13  Credit card / Prepaid card  \n",
       "11           50  Credit card / Prepaid card  \n",
       "14           27       Bank Account services  "
      ]
     },
     "execution_count": 249,
     "metadata": {},
     "output_type": "execute_result"
    }
   ],
   "source": [
    "df.head()"
   ]
  },
  {
   "cell_type": "code",
   "execution_count": 250,
   "id": "4a20ed4f-cdd3-42ad-9953-1c5d01dcdcdc",
   "metadata": {},
   "outputs": [
    {
     "data": {
      "text/plain": [
       "'morning help bank chase debt verification statement bank validate debt mail month attempt debt information consumer chase account help'"
      ]
     },
     "execution_count": 250,
     "metadata": {},
     "output_type": "execute_result"
    }
   ],
   "source": [
    "df['complaint_clean'].iloc[0]"
   ]
  },
  {
   "cell_type": "code",
   "execution_count": 251,
   "id": "da8b8e12-fc98-42ce-b57f-567675ea64cf",
   "metadata": {},
   "outputs": [
    {
     "data": {
      "text/plain": [
       "Label\n",
       "Mortgage/Loan management      5033\n",
       "Theft/Dispute Reporting       4892\n",
       "Bank Account services         4726\n",
       "Credit card / Prepaid card    4043\n",
       "others                        2378\n",
       "Name: count, dtype: int64"
      ]
     },
     "execution_count": 251,
     "metadata": {},
     "output_type": "execute_result"
    }
   ],
   "source": [
    "df['Label'].value_counts()"
   ]
  },
  {
   "cell_type": "code",
   "execution_count": 252,
   "id": "9a1e06f4-2d5b-44c2-b72b-a9aaa8d30b73",
   "metadata": {},
   "outputs": [
    {
     "data": {
      "text/plain": [
       "(21072, 4)"
      ]
     },
     "execution_count": 252,
     "metadata": {},
     "output_type": "execute_result"
    }
   ],
   "source": [
    "df.shape"
   ]
  },
  {
   "cell_type": "code",
   "execution_count": 253,
   "id": "c0bcbc08-6283-4e7f-9e1e-1017fd4c100e",
   "metadata": {},
   "outputs": [],
   "source": [
    "df = df[['complaint_id', 'complaint_clean','Label']]"
   ]
  },
  {
   "cell_type": "code",
   "execution_count": 254,
   "id": "f654f1f2-71e5-4200-8b8e-d18b3caf2069",
   "metadata": {},
   "outputs": [
    {
     "data": {
      "text/html": [
       "<div>\n",
       "<style scoped>\n",
       "    .dataframe tbody tr th:only-of-type {\n",
       "        vertical-align: middle;\n",
       "    }\n",
       "\n",
       "    .dataframe tbody tr th {\n",
       "        vertical-align: top;\n",
       "    }\n",
       "\n",
       "    .dataframe thead th {\n",
       "        text-align: right;\n",
       "    }\n",
       "</style>\n",
       "<table border=\"1\" class=\"dataframe\">\n",
       "  <thead>\n",
       "    <tr style=\"text-align: right;\">\n",
       "      <th></th>\n",
       "      <th>complaint_id</th>\n",
       "      <th>complaint_clean</th>\n",
       "      <th>Label</th>\n",
       "    </tr>\n",
       "  </thead>\n",
       "  <tbody>\n",
       "    <tr>\n",
       "      <th>1</th>\n",
       "      <td>3229299</td>\n",
       "      <td>morning help bank chase debt verification stat...</td>\n",
       "      <td>Bank Account services</td>\n",
       "    </tr>\n",
       "    <tr>\n",
       "      <th>2</th>\n",
       "      <td>3199379</td>\n",
       "      <td>card agent upgrade anniversary date change age...</td>\n",
       "      <td>Theft/Dispute Reporting</td>\n",
       "    </tr>\n",
       "    <tr>\n",
       "      <th>10</th>\n",
       "      <td>3233499</td>\n",
       "      <td>chase card report application submit identity ...</td>\n",
       "      <td>Credit card / Prepaid card</td>\n",
       "    </tr>\n",
       "    <tr>\n",
       "      <th>11</th>\n",
       "      <td>3180294</td>\n",
       "      <td>book offer ticket reward card information minu...</td>\n",
       "      <td>Credit card / Prepaid card</td>\n",
       "    </tr>\n",
       "    <tr>\n",
       "      <th>14</th>\n",
       "      <td>3224980</td>\n",
       "      <td>son deposit chase account fund bank account pa...</td>\n",
       "      <td>Bank Account services</td>\n",
       "    </tr>\n",
       "    <tr>\n",
       "      <th>...</th>\n",
       "      <td>...</td>\n",
       "      <td>...</td>\n",
       "      <td>...</td>\n",
       "    </tr>\n",
       "    <tr>\n",
       "      <th>78303</th>\n",
       "      <td>3094545</td>\n",
       "      <td>chase card customer decade solicitation credit...</td>\n",
       "      <td>Credit card / Prepaid card</td>\n",
       "    </tr>\n",
       "    <tr>\n",
       "      <th>78309</th>\n",
       "      <td>3091984</td>\n",
       "      <td>credit card provider ask claim purchase protec...</td>\n",
       "      <td>Theft/Dispute Reporting</td>\n",
       "    </tr>\n",
       "    <tr>\n",
       "      <th>78310</th>\n",
       "      <td>3133355</td>\n",
       "      <td>risk consumer chase year trust mobile banking...</td>\n",
       "      <td>Theft/Dispute Reporting</td>\n",
       "    </tr>\n",
       "    <tr>\n",
       "      <th>78311</th>\n",
       "      <td>3110963</td>\n",
       "      <td>credit yrs chase credit card chase freedom pro...</td>\n",
       "      <td>Mortgage/Loan management</td>\n",
       "    </tr>\n",
       "    <tr>\n",
       "      <th>78312</th>\n",
       "      <td>2001189</td>\n",
       "      <td>year account order line credit account payment...</td>\n",
       "      <td>Mortgage/Loan management</td>\n",
       "    </tr>\n",
       "  </tbody>\n",
       "</table>\n",
       "<p>21072 rows × 3 columns</p>\n",
       "</div>"
      ],
      "text/plain": [
       "      complaint_id                                    complaint_clean  \\\n",
       "1          3229299  morning help bank chase debt verification stat...   \n",
       "2          3199379  card agent upgrade anniversary date change age...   \n",
       "10         3233499  chase card report application submit identity ...   \n",
       "11         3180294  book offer ticket reward card information minu...   \n",
       "14         3224980  son deposit chase account fund bank account pa...   \n",
       "...            ...                                                ...   \n",
       "78303      3094545  chase card customer decade solicitation credit...   \n",
       "78309      3091984  credit card provider ask claim purchase protec...   \n",
       "78310      3133355   risk consumer chase year trust mobile banking...   \n",
       "78311      3110963  credit yrs chase credit card chase freedom pro...   \n",
       "78312      2001189  year account order line credit account payment...   \n",
       "\n",
       "                            Label  \n",
       "1           Bank Account services  \n",
       "2         Theft/Dispute Reporting  \n",
       "10     Credit card / Prepaid card  \n",
       "11     Credit card / Prepaid card  \n",
       "14          Bank Account services  \n",
       "...                           ...  \n",
       "78303  Credit card / Prepaid card  \n",
       "78309     Theft/Dispute Reporting  \n",
       "78310     Theft/Dispute Reporting  \n",
       "78311    Mortgage/Loan management  \n",
       "78312    Mortgage/Loan management  \n",
       "\n",
       "[21072 rows x 3 columns]"
      ]
     },
     "execution_count": 254,
     "metadata": {},
     "output_type": "execute_result"
    }
   ],
   "source": [
    "df"
   ]
  },
  {
   "cell_type": "code",
   "execution_count": 255,
   "id": "4edd8f12-c6bd-461f-8ca7-68ab930b050d",
   "metadata": {},
   "outputs": [],
   "source": [
    "df.to_csv('smth.csv',index=False)"
   ]
  },
  {
   "cell_type": "code",
   "execution_count": null,
   "id": "cb01f318-56a0-4bef-ad95-d492c010813c",
   "metadata": {},
   "outputs": [],
   "source": []
  }
 ],
 "metadata": {
  "kernelspec": {
   "display_name": "Python 3 (ipykernel)",
   "language": "python",
   "name": "python3"
  },
  "language_info": {
   "codemirror_mode": {
    "name": "ipython",
    "version": 3
   },
   "file_extension": ".py",
   "mimetype": "text/x-python",
   "name": "python",
   "nbconvert_exporter": "python",
   "pygments_lexer": "ipython3",
   "version": "3.12.3"
  }
 },
 "nbformat": 4,
 "nbformat_minor": 5
}
