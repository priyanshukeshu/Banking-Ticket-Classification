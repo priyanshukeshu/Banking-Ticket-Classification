{
 "cells": [
  {
   "cell_type": "code",
   "execution_count": 2,
   "id": "bf97d744-af71-4f2e-9496-3aa74806e1af",
   "metadata": {},
   "outputs": [],
   "source": [
    "import pandas as pd\n",
    "from sklearn.linear_model import LogisticRegression\n",
    "from sklearn.naive_bayes import MultinomialNB\n",
    "from sklearn.tree import DecisionTreeClassifier\n",
    "from sklearn.ensemble import RandomForestClassifier\n",
    "from sklearn.ensemble import GradientBoostingClassifier\n",
    "from sklearn.model_selection import GridSearchCV, StratifiedKFold\n",
    "from sklearn.metrics import classification_report"
   ]
  },
  {
   "cell_type": "code",
   "execution_count": 3,
   "id": "4afc0cd7-c6ab-49b3-b25a-3a644f75ab41",
   "metadata": {},
   "outputs": [
    {
     "data": {
      "text/html": [
       "<div>\n",
       "<style scoped>\n",
       "    .dataframe tbody tr th:only-of-type {\n",
       "        vertical-align: middle;\n",
       "    }\n",
       "\n",
       "    .dataframe tbody tr th {\n",
       "        vertical-align: top;\n",
       "    }\n",
       "\n",
       "    .dataframe thead th {\n",
       "        text-align: right;\n",
       "    }\n",
       "</style>\n",
       "<table border=\"1\" class=\"dataframe\">\n",
       "  <thead>\n",
       "    <tr style=\"text-align: right;\">\n",
       "      <th></th>\n",
       "      <th>complaint_id</th>\n",
       "      <th>complaint_clean</th>\n",
       "      <th>Label</th>\n",
       "    </tr>\n",
       "  </thead>\n",
       "  <tbody>\n",
       "    <tr>\n",
       "      <th>0</th>\n",
       "      <td>3229299</td>\n",
       "      <td>morning help bank chase debt verification stat...</td>\n",
       "      <td>Bank Account services</td>\n",
       "    </tr>\n",
       "    <tr>\n",
       "      <th>1</th>\n",
       "      <td>3199379</td>\n",
       "      <td>card agent upgrade anniversary date change age...</td>\n",
       "      <td>Theft/Dispute Reporting</td>\n",
       "    </tr>\n",
       "    <tr>\n",
       "      <th>2</th>\n",
       "      <td>3233499</td>\n",
       "      <td>chase card report application submit identity ...</td>\n",
       "      <td>Credit card / Prepaid card</td>\n",
       "    </tr>\n",
       "    <tr>\n",
       "      <th>3</th>\n",
       "      <td>3180294</td>\n",
       "      <td>book offer ticket reward card information minu...</td>\n",
       "      <td>Credit card / Prepaid card</td>\n",
       "    </tr>\n",
       "    <tr>\n",
       "      <th>4</th>\n",
       "      <td>3224980</td>\n",
       "      <td>son deposit chase account fund bank account pa...</td>\n",
       "      <td>Bank Account services</td>\n",
       "    </tr>\n",
       "    <tr>\n",
       "      <th>...</th>\n",
       "      <td>...</td>\n",
       "      <td>...</td>\n",
       "      <td>...</td>\n",
       "    </tr>\n",
       "    <tr>\n",
       "      <th>21067</th>\n",
       "      <td>3094545</td>\n",
       "      <td>chase card customer decade solicitation credit...</td>\n",
       "      <td>Credit card / Prepaid card</td>\n",
       "    </tr>\n",
       "    <tr>\n",
       "      <th>21068</th>\n",
       "      <td>3091984</td>\n",
       "      <td>credit card provider ask claim purchase protec...</td>\n",
       "      <td>Theft/Dispute Reporting</td>\n",
       "    </tr>\n",
       "    <tr>\n",
       "      <th>21069</th>\n",
       "      <td>3133355</td>\n",
       "      <td>risk consumer chase year trust mobile banking...</td>\n",
       "      <td>Theft/Dispute Reporting</td>\n",
       "    </tr>\n",
       "    <tr>\n",
       "      <th>21070</th>\n",
       "      <td>3110963</td>\n",
       "      <td>credit yrs chase credit card chase freedom pro...</td>\n",
       "      <td>Mortgage/Loan management</td>\n",
       "    </tr>\n",
       "    <tr>\n",
       "      <th>21071</th>\n",
       "      <td>2001189</td>\n",
       "      <td>year account order line credit account payment...</td>\n",
       "      <td>Mortgage/Loan management</td>\n",
       "    </tr>\n",
       "  </tbody>\n",
       "</table>\n",
       "<p>21072 rows × 3 columns</p>\n",
       "</div>"
      ],
      "text/plain": [
       "       complaint_id                                    complaint_clean  \\\n",
       "0           3229299  morning help bank chase debt verification stat...   \n",
       "1           3199379  card agent upgrade anniversary date change age...   \n",
       "2           3233499  chase card report application submit identity ...   \n",
       "3           3180294  book offer ticket reward card information minu...   \n",
       "4           3224980  son deposit chase account fund bank account pa...   \n",
       "...             ...                                                ...   \n",
       "21067       3094545  chase card customer decade solicitation credit...   \n",
       "21068       3091984  credit card provider ask claim purchase protec...   \n",
       "21069       3133355   risk consumer chase year trust mobile banking...   \n",
       "21070       3110963  credit yrs chase credit card chase freedom pro...   \n",
       "21071       2001189  year account order line credit account payment...   \n",
       "\n",
       "                            Label  \n",
       "0           Bank Account services  \n",
       "1         Theft/Dispute Reporting  \n",
       "2      Credit card / Prepaid card  \n",
       "3      Credit card / Prepaid card  \n",
       "4           Bank Account services  \n",
       "...                           ...  \n",
       "21067  Credit card / Prepaid card  \n",
       "21068     Theft/Dispute Reporting  \n",
       "21069     Theft/Dispute Reporting  \n",
       "21070    Mortgage/Loan management  \n",
       "21071    Mortgage/Loan management  \n",
       "\n",
       "[21072 rows x 3 columns]"
      ]
     },
     "execution_count": 3,
     "metadata": {},
     "output_type": "execute_result"
    }
   ],
   "source": [
    "df = pd.read_csv('smth.csv')\n",
    "df"
   ]
  },
  {
   "cell_type": "code",
   "execution_count": 11,
   "id": "064b25d3-8d12-4be2-a370-1fcce704cad1",
   "metadata": {},
   "outputs": [],
   "source": [
    "df.dropna(inplace=True)"
   ]
  },
  {
   "cell_type": "code",
   "execution_count": 12,
   "id": "36010b00-8374-4f2f-8ece-060a68f2c328",
   "metadata": {},
   "outputs": [],
   "source": [
    "X = df['complaint_clean']\n",
    "y = df['Label']"
   ]
  },
  {
   "cell_type": "code",
   "execution_count": 17,
   "id": "4dfe9410-7c73-49da-9050-b204bdde5061",
   "metadata": {},
   "outputs": [],
   "source": [
    "from sklearn.feature_extraction.text import TfidfTransformer\n",
    "from sklearn.feature_extraction.text import CountVectorizer\n",
    "\n",
    "\n",
    "count_vect=CountVectorizer()\n",
    "count = count_vect.fit_transform(X)\n",
    "\n",
    "tfidf_trans=TfidfTransformer()\n",
    "X_vec = tfidf_trans.fit_transform(count)"
   ]
  },
  {
   "cell_type": "code",
   "execution_count": 18,
   "id": "18cb2146-1465-4d49-b97c-63ccc6b2ab4a",
   "metadata": {},
   "outputs": [],
   "source": [
    "from sklearn.model_selection import train_test_split\n",
    "\n",
    "X_train, X_test, y_train, y_test = train_test_split(X_vec,y, test_size=0.2)"
   ]
  },
  {
   "cell_type": "code",
   "execution_count": 19,
   "id": "c179ff3b-ddf7-4b55-a9d4-512147e8832a",
   "metadata": {},
   "outputs": [
    {
     "data": {
      "text/plain": [
       "(4213, 11387)"
      ]
     },
     "execution_count": 19,
     "metadata": {},
     "output_type": "execute_result"
    }
   ],
   "source": [
    "X_test.shape"
   ]
  },
  {
   "cell_type": "code",
   "execution_count": 20,
   "id": "4e366dbf-f81d-4265-8f88-b11d5679b790",
   "metadata": {},
   "outputs": [
    {
     "data": {
      "text/plain": [
       "(16848, 11387)"
      ]
     },
     "execution_count": 20,
     "metadata": {},
     "output_type": "execute_result"
    }
   ],
   "source": [
    "X_train.shape"
   ]
  },
  {
   "cell_type": "code",
   "execution_count": 21,
   "id": "04322c9f-fe43-482d-a218-8c6ff5ac664b",
   "metadata": {},
   "outputs": [
    {
     "data": {
      "text/plain": [
       "(16848,)"
      ]
     },
     "execution_count": 21,
     "metadata": {},
     "output_type": "execute_result"
    }
   ],
   "source": [
    "y_train.shape"
   ]
  },
  {
   "cell_type": "code",
   "execution_count": 22,
   "id": "fcb393e1-c0c6-4b91-8e39-725345c98f83",
   "metadata": {},
   "outputs": [],
   "source": [
    "import pickle\n",
    "pickle.dump(count_vect, open('count.pkl','wb'))\n",
    "pickle.dump(tfidf_trans, open('tfidf.pkl','wb'))"
   ]
  },
  {
   "cell_type": "code",
   "execution_count": 23,
   "id": "1c22dfbf-890e-4279-9bf3-89e4329b7601",
   "metadata": {},
   "outputs": [],
   "source": [
    "# StratifiedKFold ensures that each fold has a representative class distribution, leading to more reliable and consistent evaluation of the model.\n",
    "\n",
    "def model_build(model, param_grid):\n",
    "    cv = StratifiedKFold(n_splits=10, shuffle=True, random_state=40)\n",
    "    grid = GridSearchCV(model,param_grid={}, cv=cv, scoring='f1_weighted', n_jobs=-1)\n",
    "    grid.fit(X_train, y_train)\n",
    "    return grid.best_estimator_"
   ]
  },
  {
   "cell_type": "markdown",
   "id": "8e50fd3e-d0eb-4a98-87b3-f01fcda5517e",
   "metadata": {},
   "source": [
    "## 1. Logistic Regression"
   ]
  },
  {
   "cell_type": "code",
   "execution_count": 24,
   "id": "1d4d7772-3b76-4937-8b49-96e25a43afc8",
   "metadata": {},
   "outputs": [],
   "source": [
    "clf = LogisticRegression()\n",
    "para = {\n",
    "    'penalty': ['l1', 'l2', 'elasticnet', 'none'],\n",
    "    'solver': ['lbfgs', 'liblinear', 'sag', 'saga'],\n",
    "    'max_iter': [100, 200, 300, 500],\n",
    "    'class_weight': [None, 'balanced']\n",
    "}\n",
    "lr = model_build(clf, para)"
   ]
  },
  {
   "cell_type": "code",
   "execution_count": 25,
   "id": "e33b9850-b9c7-46d3-a755-e324be60ad4e",
   "metadata": {},
   "outputs": [
    {
     "name": "stdout",
     "output_type": "stream",
     "text": [
      "Classification Report for training data: \n",
      "                             precision    recall  f1-score   support\n",
      "\n",
      "     Bank Account services       0.99      0.99      0.99      3772\n",
      "Credit card / Prepaid card       0.99      0.99      0.99      3260\n",
      "  Mortgage/Loan management       0.99      0.99      0.99      3981\n",
      "   Theft/Dispute Reporting       0.98      0.99      0.99      3930\n",
      "                    others       0.99      0.98      0.99      1905\n",
      "\n",
      "                  accuracy                           0.99     16848\n",
      "                 macro avg       0.99      0.99      0.99     16848\n",
      "              weighted avg       0.99      0.99      0.99     16848\n",
      "\n",
      "Classification Report for testing data: \n",
      "                             precision    recall  f1-score   support\n",
      "\n",
      "     Bank Account services       0.97      0.97      0.97       954\n",
      "Credit card / Prepaid card       0.97      0.97      0.97       783\n",
      "  Mortgage/Loan management       0.98      0.97      0.98      1052\n",
      "   Theft/Dispute Reporting       0.94      0.97      0.95       951\n",
      "                    others       0.99      0.94      0.96       473\n",
      "\n",
      "                  accuracy                           0.97      4213\n",
      "                 macro avg       0.97      0.97      0.97      4213\n",
      "              weighted avg       0.97      0.97      0.97      4213\n",
      "\n"
     ]
    }
   ],
   "source": [
    "y_pred_train = lr.predict(X_train)\n",
    "y_pred_test = lr.predict(X_test)\n",
    "\n",
    "print(\"Classification Report for training data: \\n\", classification_report(y_train, y_pred_train))\n",
    "print(\"Classification Report for testing data: \\n\",classification_report(y_test, y_pred_test))"
   ]
  },
  {
   "cell_type": "markdown",
   "id": "577d185c-967f-4b2e-8a70-d91f638a1552",
   "metadata": {},
   "source": [
    "## 2. Multinomial Naive Bayes"
   ]
  },
  {
   "cell_type": "code",
   "execution_count": 35,
   "id": "acf99061-2a3d-45cf-aa07-ef6e7b1e41a6",
   "metadata": {},
   "outputs": [],
   "source": [
    "clf2 = MultinomialNB()\n",
    "para = {\n",
    "    'alpha': [0.01, 0.1, 1.0, 10.0]\n",
    "}\n",
    "mnb = model_build(clf2, para)"
   ]
  },
  {
   "cell_type": "code",
   "execution_count": 36,
   "id": "75f613c3-5b23-48b0-99fd-e448db471d3f",
   "metadata": {},
   "outputs": [
    {
     "name": "stdout",
     "output_type": "stream",
     "text": [
      "Classification Report for training data: \n",
      "                             precision    recall  f1-score   support\n",
      "\n",
      "     Bank Account services       0.80      0.88      0.84      3772\n",
      "Credit card / Prepaid card       0.86      0.76      0.81      3260\n",
      "  Mortgage/Loan management       0.79      0.91      0.85      3981\n",
      "   Theft/Dispute Reporting       0.71      0.82      0.76      3930\n",
      "                    others       0.98      0.33      0.49      1905\n",
      "\n",
      "                  accuracy                           0.79     16848\n",
      "                 macro avg       0.83      0.74      0.75     16848\n",
      "              weighted avg       0.81      0.79      0.78     16848\n",
      "\n",
      "Classification Report for testing data: \n",
      "                             precision    recall  f1-score   support\n",
      "\n",
      "     Bank Account services       0.77      0.87      0.82       954\n",
      "Credit card / Prepaid card       0.83      0.71      0.77       783\n",
      "  Mortgage/Loan management       0.79      0.91      0.84      1052\n",
      "   Theft/Dispute Reporting       0.71      0.82      0.76       951\n",
      "                    others       0.94      0.28      0.44       473\n",
      "\n",
      "                  accuracy                           0.77      4213\n",
      "                 macro avg       0.81      0.72      0.72      4213\n",
      "              weighted avg       0.79      0.77      0.76      4213\n",
      "\n"
     ]
    }
   ],
   "source": [
    "y_pred2_train = mnb.predict(X_train)\n",
    "y_pred2_test = mnb.predict(X_test)\n",
    "\n",
    "print(\"Classification Report for training data: \\n\", classification_report(y_train, y_pred2_train))\n",
    "print(\"Classification Report for testing data: \\n\",classification_report(y_test, y_pred2_test))"
   ]
  },
  {
   "cell_type": "markdown",
   "id": "ea831c26-d942-4256-b400-6f7277e3b79a",
   "metadata": {},
   "source": [
    "## 3. Decision Tree classifier"
   ]
  },
  {
   "cell_type": "code",
   "execution_count": 37,
   "id": "ba94380c-1e6a-43ab-a5c6-51c8d06cd43a",
   "metadata": {},
   "outputs": [],
   "source": [
    "clf3 = DecisionTreeClassifier()\n",
    "para = {\n",
    "    'criterion' : [\"gini\", \"entropy\", \"log_loss\"],\n",
    "    'splitter' : [\"best\", \"random\"],\n",
    "    'max_depth' : [None, 2, 4, 6, 8, 10, 12, 14, 16],\n",
    "    'min_samples_split': [2, 4, 6, 8, 10,15],\n",
    "    'min_samples_leaf': [1, 2, 4, 6, 8, 10,12],\n",
    "    'max_features' : [None, \"sqrt\", \"log2\"],\n",
    "}\n",
    "dt = model_build(clf3, para)"
   ]
  },
  {
   "cell_type": "code",
   "execution_count": 38,
   "id": "3178a93b-bdc2-49a2-86e5-419fea93b5f7",
   "metadata": {},
   "outputs": [
    {
     "name": "stdout",
     "output_type": "stream",
     "text": [
      "Classification Report for training data: \n",
      "                             precision    recall  f1-score   support\n",
      "\n",
      "     Bank Account services       1.00      1.00      1.00      3772\n",
      "Credit card / Prepaid card       1.00      1.00      1.00      3260\n",
      "  Mortgage/Loan management       1.00      1.00      1.00      3981\n",
      "   Theft/Dispute Reporting       1.00      1.00      1.00      3930\n",
      "                    others       1.00      1.00      1.00      1905\n",
      "\n",
      "                  accuracy                           1.00     16848\n",
      "                 macro avg       1.00      1.00      1.00     16848\n",
      "              weighted avg       1.00      1.00      1.00     16848\n",
      "\n",
      "Classification Report for testing data: \n",
      "                             precision    recall  f1-score   support\n",
      "\n",
      "     Bank Account services       0.80      0.81      0.80       954\n",
      "Credit card / Prepaid card       0.83      0.82      0.82       783\n",
      "  Mortgage/Loan management       0.86      0.86      0.86      1052\n",
      "   Theft/Dispute Reporting       0.73      0.72      0.72       951\n",
      "                    others       0.75      0.75      0.75       473\n",
      "\n",
      "                  accuracy                           0.80      4213\n",
      "                 macro avg       0.79      0.79      0.79      4213\n",
      "              weighted avg       0.80      0.80      0.80      4213\n",
      "\n"
     ]
    }
   ],
   "source": [
    "y_pred3_train = dt.predict(X_train)\n",
    "y_pred3_test = dt.predict(X_test)\n",
    "\n",
    "print(\"Classification Report for training data: \\n\", classification_report(y_train, y_pred3_train))\n",
    "print(\"Classification Report for testing data: \\n\",classification_report(y_test, y_pred3_test))"
   ]
  },
  {
   "cell_type": "markdown",
   "id": "9cc8d4e4-2c11-4ca9-8915-1a91ce29f883",
   "metadata": {},
   "source": [
    "## 4. Random Forest Classifier"
   ]
  },
  {
   "cell_type": "code",
   "execution_count": 39,
   "id": "dc403f53-cf2e-4791-acc7-f31938935ca4",
   "metadata": {},
   "outputs": [],
   "source": [
    "clf4 = RandomForestClassifier()\n",
    "para = {\n",
    "    'n_estimators': [50, 100, 150, 200, 300, 400, 500],\n",
    "    'criterion' : [\"gini\", \"entropy\", \"log_loss\"],\n",
    "    'max_depth' : [None, 2, 4, 6, 8, 10, 12, 14, 16],\n",
    "    'min_samples_split': [2, 4, 6, 8, 10,15],\n",
    "    'min_samples_leaf': [1, 2, 4, 6, 8, 10,12],\n",
    "    'max_features' : [None, \"sqrt\", \"log2\"],\n",
    "    'bootstrap' : [True, False],\n",
    "    'class_weight' : [None, \"balanced\", \"balanced_subsample\"]\n",
    "}\n",
    "rf = model_build(clf4, para)"
   ]
  },
  {
   "cell_type": "code",
   "execution_count": 40,
   "id": "3e5a5476-b97a-4107-b9b9-6695e431b092",
   "metadata": {},
   "outputs": [
    {
     "name": "stdout",
     "output_type": "stream",
     "text": [
      "Classification Report for training data: \n",
      "                             precision    recall  f1-score   support\n",
      "\n",
      "     Bank Account services       1.00      1.00      1.00      3772\n",
      "Credit card / Prepaid card       1.00      1.00      1.00      3260\n",
      "  Mortgage/Loan management       1.00      1.00      1.00      3981\n",
      "   Theft/Dispute Reporting       1.00      1.00      1.00      3930\n",
      "                    others       1.00      1.00      1.00      1905\n",
      "\n",
      "                  accuracy                           1.00     16848\n",
      "                 macro avg       1.00      1.00      1.00     16848\n",
      "              weighted avg       1.00      1.00      1.00     16848\n",
      "\n",
      "Classification Report for testing data: \n",
      "                             precision    recall  f1-score   support\n",
      "\n",
      "     Bank Account services       0.86      0.92      0.89       954\n",
      "Credit card / Prepaid card       0.87      0.88      0.87       783\n",
      "  Mortgage/Loan management       0.88      0.92      0.90      1052\n",
      "   Theft/Dispute Reporting       0.84      0.84      0.84       951\n",
      "                    others       0.93      0.68      0.79       473\n",
      "\n",
      "                  accuracy                           0.87      4213\n",
      "                 macro avg       0.88      0.85      0.86      4213\n",
      "              weighted avg       0.87      0.87      0.87      4213\n",
      "\n"
     ]
    }
   ],
   "source": [
    "y_pred4_train = rf.predict(X_train)\n",
    "y_pred4_test = rf.predict(X_test)\n",
    "\n",
    "print(\"Classification Report for training data: \\n\", classification_report(y_train, y_pred4_train))\n",
    "print(\"Classification Report for testing data: \\n\",classification_report(y_test, y_pred4_test))"
   ]
  },
  {
   "cell_type": "markdown",
   "id": "2520f56d-17ce-4af2-8ca9-ad416afb859f",
   "metadata": {},
   "source": [
    "## 5. Gradient Boosting Classifier"
   ]
  },
  {
   "cell_type": "code",
   "execution_count": 56,
   "id": "b75589a7-a7bd-4369-9b85-f454f618230f",
   "metadata": {},
   "outputs": [],
   "source": [
    "clf5 = GradientBoostingClassifier()\n",
    "para = {\n",
    "    'n_estimators': [50, 100, 150, 200, 300, 400, 500],\n",
    "    'loss' : ['log_loss', 'exponential'],\n",
    "    'learning_rate' : [0.1, 0.2, 0.3, 0.4, 0.5, 0.6, 0.7, 0.8, 0.9],\n",
    "    'criterion' : ['friedman_mse', 'squared_error'],\n",
    "    'min_samples_split': [2, 4, 6, 8, 10,15],\n",
    "    'min_samples_leaf': [1, 2, 4, 6, 8, 10,12],\n",
    "    'max_depth' : [None, 2, 4, 6, 8, 10, 12, 14, 16],\n",
    "    'max_features' : [None, \"sqrt\", \"log2\"],\n",
    "}\n",
    "gb = model_build(clf5, para)"
   ]
  },
  {
   "cell_type": "code",
   "execution_count": 57,
   "id": "5cfe39f2-eb9f-46e0-97f4-bd3cbaf76fb6",
   "metadata": {},
   "outputs": [
    {
     "name": "stdout",
     "output_type": "stream",
     "text": [
      "Classification Report for training data: \n",
      "                             precision    recall  f1-score   support\n",
      "\n",
      "     Bank Account services       0.97      0.96      0.96      3772\n",
      "Credit card / Prepaid card       0.96      0.96      0.96      3260\n",
      "  Mortgage/Loan management       0.97      0.96      0.97      3981\n",
      "   Theft/Dispute Reporting       0.92      0.95      0.93      3930\n",
      "                    others       0.98      0.95      0.96      1905\n",
      "\n",
      "                  accuracy                           0.95     16848\n",
      "                 macro avg       0.96      0.95      0.96     16848\n",
      "              weighted avg       0.96      0.95      0.95     16848\n",
      "\n",
      "Classification Report for testing data: \n",
      "                             precision    recall  f1-score   support\n",
      "\n",
      "     Bank Account services       0.93      0.92      0.92       954\n",
      "Credit card / Prepaid card       0.92      0.91      0.91       783\n",
      "  Mortgage/Loan management       0.94      0.93      0.93      1052\n",
      "   Theft/Dispute Reporting       0.86      0.90      0.88       951\n",
      "                    others       0.93      0.89      0.91       473\n",
      "\n",
      "                  accuracy                           0.91      4213\n",
      "                 macro avg       0.91      0.91      0.91      4213\n",
      "              weighted avg       0.91      0.91      0.91      4213\n",
      "\n"
     ]
    }
   ],
   "source": [
    "y_pred5_train = gb.predict(X_train)\n",
    "y_pred5_test = gb.predict(X_test)\n",
    "\n",
    "print(\"Classification Report for training data: \\n\", classification_report(y_train, y_pred5_train))\n",
    "print(\"Classification Report for testing data: \\n\",classification_report(y_test, y_pred5_test))"
   ]
  },
  {
   "cell_type": "markdown",
   "id": "51b7d375-8a57-494e-9b28-173eab2aac90",
   "metadata": {},
   "source": [
    "### By observing the reports of all the above models, we conclude that  logistic regression is better as compared to others with a weighted average F1 score of 97% on test data."
   ]
  },
  {
   "cell_type": "code",
   "execution_count": 26,
   "id": "ea638f2a-6747-4c04-90fb-1e13673b228f",
   "metadata": {},
   "outputs": [],
   "source": [
    "pickle.dump(lr, open('model.pkl', 'wb'))"
   ]
  },
  {
   "cell_type": "markdown",
   "id": "5bcba260-d7be-4b9c-90e5-82a2779a2875",
   "metadata": {},
   "source": [
    "# Prediction"
   ]
  },
  {
   "cell_type": "code",
   "execution_count": 28,
   "id": "7820a374-1b10-4567-a6d9-4f512be76f63",
   "metadata": {},
   "outputs": [],
   "source": [
    "import nltk, spacy, re\n",
    "import string"
   ]
  },
  {
   "cell_type": "code",
   "execution_count": 29,
   "id": "8213db06-c8a9-4450-beb2-5de8d851e019",
   "metadata": {},
   "outputs": [],
   "source": [
    "def clean_text(text):\n",
    "    text = text.lower()\n",
    "    text = nltk.word_tokenize(text)\n",
    "\n",
    "    text2=[]\n",
    "    for i in text:\n",
    "        if i.isalnum():\n",
    "           text2.append(i)          #removing all special characters\n",
    "\n",
    "    text=text2.copy()\n",
    "    text2.clear()\n",
    "    for i in text:\n",
    "        if i not in string.punctuation:\n",
    "            text2.append(i)\n",
    "\n",
    "    return ' '.join(text2)"
   ]
  },
  {
   "cell_type": "code",
   "execution_count": 30,
   "id": "b66485f2-74f3-4c8d-b970-64004e90191e",
   "metadata": {},
   "outputs": [],
   "source": [
    "import swifter\n",
    "import en_core_web_sm\n",
    "\n",
    "# Load the English language model\n",
    "nlp = spacy.load(\"en_core_web_sm\")\n",
    "\n",
    "def lemmatize_text(text):\n",
    "    doc = nlp(text)\n",
    "    # Lemmatize each token and remove stop words\n",
    "    lemmatized_text = \" \".join([token.lemma_ for token in doc if not token.is_stop])\n",
    "\n",
    "    return lemmatized_text"
   ]
  },
  {
   "cell_type": "code",
   "execution_count": 31,
   "id": "d15a5f05-6aef-4f1f-b0f4-bee04fa12516",
   "metadata": {},
   "outputs": [],
   "source": [
    "\n",
    "def pos_tags(text):\n",
    "  nn_words = []\n",
    "  doc = nlp(text)\n",
    "  for tok in doc:\n",
    "      if (tok.tag_== 'NN'):\n",
    "          nn_words.append(tok.lemma_)\n",
    "  nn_words_str = \" \".join(nn_words)\n",
    "  return nn_words_str"
   ]
  },
  {
   "cell_type": "code",
   "execution_count": 55,
   "id": "5e8d2f95-a356-48c9-97b5-68ed2ba97e29",
   "metadata": {},
   "outputs": [
    {
     "data": {
      "text/plain": [
       "'others'"
      ]
     },
     "execution_count": 55,
     "metadata": {},
     "output_type": "execute_result"
    }
   ],
   "source": [
    "model = pickle.load(open('model.pkl', 'rb'))\n",
    "count = pickle.load(open('count.pkl', 'rb'))\n",
    "tfidf = pickle.load(open('tfidf.pkl', 'rb'))\n",
    "\n",
    "sentence = \"I kindly request a full refund of the $50 service fee and an explanation of why this fee was charged. Additionally, I would appreciate confirmation that no further unauthorized charges will be applied to my account\"\n",
    "\n",
    "clean=pos_tags(lemmatize_text(clean_text(sentence)))\n",
    "k = count.transform([clean])\n",
    "h = tfidf.transform(k)\n",
    "model.predict(h)[0]"
   ]
  },
  {
   "cell_type": "code",
   "execution_count": 45,
   "id": "09afea37-5231-4a32-8c76-c88dd10e6055",
   "metadata": {},
   "outputs": [
    {
     "data": {
      "text/plain": [
       "'money bank gift maintainance fee visit bank reason lunch time counter manager'"
      ]
     },
     "execution_count": 45,
     "metadata": {},
     "output_type": "execute_result"
    }
   ],
   "source": [
    "pos_tags(lemmatize_text(clean_text(sentence)))"
   ]
  },
  {
   "cell_type": "code",
   "execution_count": null,
   "id": "b014cce4-70fe-45cf-8e2d-83305edd6638",
   "metadata": {},
   "outputs": [],
   "source": []
  }
 ],
 "metadata": {
  "kernelspec": {
   "display_name": "Python 3 (ipykernel)",
   "language": "python",
   "name": "python3"
  },
  "language_info": {
   "codemirror_mode": {
    "name": "ipython",
    "version": 3
   },
   "file_extension": ".py",
   "mimetype": "text/x-python",
   "name": "python",
   "nbconvert_exporter": "python",
   "pygments_lexer": "ipython3",
   "version": "3.12.3"
  }
 },
 "nbformat": 4,
 "nbformat_minor": 5
}
